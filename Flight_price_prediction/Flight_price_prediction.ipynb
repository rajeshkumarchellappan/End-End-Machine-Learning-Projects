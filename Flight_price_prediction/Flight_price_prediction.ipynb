{
 "cells": [
  {
   "cell_type": "markdown",
   "metadata": {},
   "source": [
    "# Flight Price Prediction"
   ]
  },
  {
   "cell_type": "code",
   "execution_count": 1,
   "metadata": {},
   "outputs": [],
   "source": [
    "import pandas as pd\n",
    "import numpy as np\n",
    "import seaborn as sns\n",
    "import plotly.express as px\n",
    "import matplotlib.pyplot as plt"
   ]
  },
  {
   "cell_type": "code",
   "execution_count": 2,
   "metadata": {},
   "outputs": [],
   "source": [
    "# connecting kaggle api to notebook\n",
    "from kaggle.api.kaggle_api_extended import KaggleApi\n",
    "api = KaggleApi()\n",
    "api.authenticate()"
   ]
  },
  {
   "cell_type": "code",
   "execution_count": 3,
   "metadata": {},
   "outputs": [],
   "source": [
    "#Downloading dataset from Kaggle \n",
    "api.dataset_download_files('nikhilmittal/flight-fare-prediction-mh') \n",
    "#Path inside the brackets is — username (of_person_who_published_dataset)/name (of_the_Kaggle_dataset)."
   ]
  },
  {
   "cell_type": "code",
   "execution_count": 4,
   "metadata": {},
   "outputs": [],
   "source": [
    "# downloading as zipfile and extracting the data\n",
    "from zipfile import ZipFile\n",
    "zf = ZipFile('flight-fare-prediction-mh.zip')\n",
    "#extracted data is saved in the same directory as notebook\n",
    "zf.extractall() \n",
    "zf.close()"
   ]
  },
  {
   "cell_type": "code",
   "execution_count": 5,
   "metadata": {},
   "outputs": [
    {
     "data": {
      "text/html": [
       "<div>\n",
       "<style scoped>\n",
       "    .dataframe tbody tr th:only-of-type {\n",
       "        vertical-align: middle;\n",
       "    }\n",
       "\n",
       "    .dataframe tbody tr th {\n",
       "        vertical-align: top;\n",
       "    }\n",
       "\n",
       "    .dataframe thead th {\n",
       "        text-align: right;\n",
       "    }\n",
       "</style>\n",
       "<table border=\"1\" class=\"dataframe\">\n",
       "  <thead>\n",
       "    <tr style=\"text-align: right;\">\n",
       "      <th></th>\n",
       "      <th>Airline</th>\n",
       "      <th>Date_of_Journey</th>\n",
       "      <th>Source</th>\n",
       "      <th>Destination</th>\n",
       "      <th>Route</th>\n",
       "      <th>Dep_Time</th>\n",
       "      <th>Arrival_Time</th>\n",
       "      <th>Duration</th>\n",
       "      <th>Total_Stops</th>\n",
       "      <th>Additional_Info</th>\n",
       "      <th>Price</th>\n",
       "    </tr>\n",
       "  </thead>\n",
       "  <tbody>\n",
       "    <tr>\n",
       "      <th>0</th>\n",
       "      <td>IndiGo</td>\n",
       "      <td>24/03/2019</td>\n",
       "      <td>Banglore</td>\n",
       "      <td>New Delhi</td>\n",
       "      <td>BLR → DEL</td>\n",
       "      <td>22:20</td>\n",
       "      <td>01:10 22 Mar</td>\n",
       "      <td>2h 50m</td>\n",
       "      <td>non-stop</td>\n",
       "      <td>No info</td>\n",
       "      <td>3897</td>\n",
       "    </tr>\n",
       "    <tr>\n",
       "      <th>1</th>\n",
       "      <td>Air India</td>\n",
       "      <td>1/05/2019</td>\n",
       "      <td>Kolkata</td>\n",
       "      <td>Banglore</td>\n",
       "      <td>CCU → IXR → BBI → BLR</td>\n",
       "      <td>05:50</td>\n",
       "      <td>13:15</td>\n",
       "      <td>7h 25m</td>\n",
       "      <td>2 stops</td>\n",
       "      <td>No info</td>\n",
       "      <td>7662</td>\n",
       "    </tr>\n",
       "    <tr>\n",
       "      <th>2</th>\n",
       "      <td>Jet Airways</td>\n",
       "      <td>9/06/2019</td>\n",
       "      <td>Delhi</td>\n",
       "      <td>Cochin</td>\n",
       "      <td>DEL → LKO → BOM → COK</td>\n",
       "      <td>09:25</td>\n",
       "      <td>04:25 10 Jun</td>\n",
       "      <td>19h</td>\n",
       "      <td>2 stops</td>\n",
       "      <td>No info</td>\n",
       "      <td>13882</td>\n",
       "    </tr>\n",
       "    <tr>\n",
       "      <th>3</th>\n",
       "      <td>IndiGo</td>\n",
       "      <td>12/05/2019</td>\n",
       "      <td>Kolkata</td>\n",
       "      <td>Banglore</td>\n",
       "      <td>CCU → NAG → BLR</td>\n",
       "      <td>18:05</td>\n",
       "      <td>23:30</td>\n",
       "      <td>5h 25m</td>\n",
       "      <td>1 stop</td>\n",
       "      <td>No info</td>\n",
       "      <td>6218</td>\n",
       "    </tr>\n",
       "    <tr>\n",
       "      <th>4</th>\n",
       "      <td>IndiGo</td>\n",
       "      <td>01/03/2019</td>\n",
       "      <td>Banglore</td>\n",
       "      <td>New Delhi</td>\n",
       "      <td>BLR → NAG → DEL</td>\n",
       "      <td>16:50</td>\n",
       "      <td>21:35</td>\n",
       "      <td>4h 45m</td>\n",
       "      <td>1 stop</td>\n",
       "      <td>No info</td>\n",
       "      <td>13302</td>\n",
       "    </tr>\n",
       "  </tbody>\n",
       "</table>\n",
       "</div>"
      ],
      "text/plain": [
       "       Airline Date_of_Journey    Source Destination                  Route  \\\n",
       "0       IndiGo      24/03/2019  Banglore   New Delhi              BLR → DEL   \n",
       "1    Air India       1/05/2019   Kolkata    Banglore  CCU → IXR → BBI → BLR   \n",
       "2  Jet Airways       9/06/2019     Delhi      Cochin  DEL → LKO → BOM → COK   \n",
       "3       IndiGo      12/05/2019   Kolkata    Banglore        CCU → NAG → BLR   \n",
       "4       IndiGo      01/03/2019  Banglore   New Delhi        BLR → NAG → DEL   \n",
       "\n",
       "  Dep_Time  Arrival_Time Duration Total_Stops Additional_Info  Price  \n",
       "0    22:20  01:10 22 Mar   2h 50m    non-stop         No info   3897  \n",
       "1    05:50         13:15   7h 25m     2 stops         No info   7662  \n",
       "2    09:25  04:25 10 Jun      19h     2 stops         No info  13882  \n",
       "3    18:05         23:30   5h 25m      1 stop         No info   6218  \n",
       "4    16:50         21:35   4h 45m      1 stop         No info  13302  "
      ]
     },
     "execution_count": 5,
     "metadata": {},
     "output_type": "execute_result"
    }
   ],
   "source": [
    "df=pd.read_excel('Data_Train.xlsx')\n",
    "df.head()"
   ]
  },
  {
   "cell_type": "code",
   "execution_count": 6,
   "metadata": {},
   "outputs": [
    {
     "name": "stdout",
     "output_type": "stream",
     "text": [
      "<class 'pandas.core.frame.DataFrame'>\n",
      "RangeIndex: 10683 entries, 0 to 10682\n",
      "Data columns (total 11 columns):\n",
      "Airline            10683 non-null object\n",
      "Date_of_Journey    10683 non-null object\n",
      "Source             10683 non-null object\n",
      "Destination        10683 non-null object\n",
      "Route              10682 non-null object\n",
      "Dep_Time           10683 non-null object\n",
      "Arrival_Time       10683 non-null object\n",
      "Duration           10683 non-null object\n",
      "Total_Stops        10682 non-null object\n",
      "Additional_Info    10683 non-null object\n",
      "Price              10683 non-null int64\n",
      "dtypes: int64(1), object(10)\n",
      "memory usage: 918.1+ KB\n"
     ]
    }
   ],
   "source": [
    "df.info()"
   ]
  },
  {
   "cell_type": "code",
   "execution_count": 7,
   "metadata": {},
   "outputs": [
    {
     "data": {
      "text/plain": [
       "Airline            0\n",
       "Date_of_Journey    0\n",
       "Source             0\n",
       "Destination        0\n",
       "Route              1\n",
       "Dep_Time           0\n",
       "Arrival_Time       0\n",
       "Duration           0\n",
       "Total_Stops        1\n",
       "Additional_Info    0\n",
       "Price              0\n",
       "dtype: int64"
      ]
     },
     "execution_count": 7,
     "metadata": {},
     "output_type": "execute_result"
    }
   ],
   "source": [
    "df.isna().sum()"
   ]
  },
  {
   "cell_type": "code",
   "execution_count": 8,
   "metadata": {},
   "outputs": [],
   "source": [
    "df=df.dropna(how='any')"
   ]
  },
  {
   "cell_type": "code",
   "execution_count": 9,
   "metadata": {},
   "outputs": [
    {
     "name": "stdout",
     "output_type": "stream",
     "text": [
      "<class 'pandas.core.frame.DataFrame'>\n",
      "Int64Index: 10682 entries, 0 to 10682\n",
      "Data columns (total 11 columns):\n",
      "Airline            10682 non-null object\n",
      "Date_of_Journey    10682 non-null object\n",
      "Source             10682 non-null object\n",
      "Destination        10682 non-null object\n",
      "Route              10682 non-null object\n",
      "Dep_Time           10682 non-null object\n",
      "Arrival_Time       10682 non-null object\n",
      "Duration           10682 non-null object\n",
      "Total_Stops        10682 non-null object\n",
      "Additional_Info    10682 non-null object\n",
      "Price              10682 non-null int64\n",
      "dtypes: int64(1), object(10)\n",
      "memory usage: 1001.4+ KB\n"
     ]
    }
   ],
   "source": [
    "df.info()"
   ]
  },
  {
   "cell_type": "code",
   "execution_count": 10,
   "metadata": {},
   "outputs": [
    {
     "data": {
      "text/plain": [
       "array(['non-stop', '2 stops', '1 stop', '3 stops', '4 stops'],\n",
       "      dtype=object)"
      ]
     },
     "execution_count": 10,
     "metadata": {},
     "output_type": "execute_result"
    }
   ],
   "source": [
    "df.Total_Stops.unique()"
   ]
  },
  {
   "cell_type": "code",
   "execution_count": 11,
   "metadata": {},
   "outputs": [
    {
     "data": {
      "text/plain": [
       "dtype('O')"
      ]
     },
     "execution_count": 11,
     "metadata": {},
     "output_type": "execute_result"
    }
   ],
   "source": [
    "df.Total_Stops.dtype"
   ]
  },
  {
   "cell_type": "code",
   "execution_count": 12,
   "metadata": {},
   "outputs": [
    {
     "data": {
      "text/plain": [
       "1 stop      5625\n",
       "non-stop    3491\n",
       "2 stops     1520\n",
       "3 stops       45\n",
       "4 stops        1\n",
       "Name: Total_Stops, dtype: int64"
      ]
     },
     "execution_count": 12,
     "metadata": {},
     "output_type": "execute_result"
    }
   ],
   "source": [
    "df.Total_Stops.value_counts()"
   ]
  },
  {
   "cell_type": "code",
   "execution_count": 13,
   "metadata": {},
   "outputs": [
    {
     "data": {
      "text/plain": [
       "array(['IndiGo', 'Air India', 'Jet Airways', 'SpiceJet',\n",
       "       'Multiple carriers', 'GoAir', 'Vistara', 'Air Asia',\n",
       "       'Vistara Premium economy', 'Jet Airways Business',\n",
       "       'Multiple carriers Premium economy', 'Trujet'], dtype=object)"
      ]
     },
     "execution_count": 13,
     "metadata": {},
     "output_type": "execute_result"
    }
   ],
   "source": [
    "df.Airline.unique()"
   ]
  },
  {
   "cell_type": "code",
   "execution_count": 14,
   "metadata": {},
   "outputs": [
    {
     "data": {
      "text/plain": [
       "Jet Airways                          3849\n",
       "IndiGo                               2053\n",
       "Air India                            1751\n",
       "Multiple carriers                    1196\n",
       "SpiceJet                              818\n",
       "Vistara                               479\n",
       "Air Asia                              319\n",
       "GoAir                                 194\n",
       "Multiple carriers Premium economy      13\n",
       "Jet Airways Business                    6\n",
       "Vistara Premium economy                 3\n",
       "Trujet                                  1\n",
       "Name: Airline, dtype: int64"
      ]
     },
     "execution_count": 14,
     "metadata": {},
     "output_type": "execute_result"
    }
   ],
   "source": [
    "df.Airline.value_counts()"
   ]
  },
  {
   "cell_type": "code",
   "execution_count": 15,
   "metadata": {},
   "outputs": [],
   "source": [
    "df.Destination=df.Destination.replace({'Delhi':'New Delhi','Kolkata':'Wb_Kolkata','Banglore':'Ka_Banglore'})"
   ]
  },
  {
   "cell_type": "markdown",
   "metadata": {},
   "source": [
    "### Price based on Source and destination"
   ]
  },
  {
   "cell_type": "code",
   "execution_count": 16,
   "metadata": {},
   "outputs": [
    {
     "data": {
      "text/plain": [
       "Source    Destination\n",
       "Banglore  New Delhi       8017.464269\n",
       "Chennai   Wb_Kolkata      4789.892388\n",
       "Delhi     Cochin         10540.113536\n",
       "Kolkata   Ka_Banglore     9158.389411\n",
       "Mumbai    Hyderabad       5059.708752\n",
       "Name: Price, dtype: float64"
      ]
     },
     "execution_count": 16,
     "metadata": {},
     "output_type": "execute_result"
    }
   ],
   "source": [
    "df.groupby(['Source','Destination'])['Price'].mean()"
   ]
  },
  {
   "cell_type": "code",
   "execution_count": 17,
   "metadata": {},
   "outputs": [
    {
     "data": {
      "image/png": "[encoded data removed]",
      "text/plain": [
       "<Figure size 1296x720 with 1 Axes>"
      ]
     },
     "metadata": {
      "needs_background": "light"
     },
     "output_type": "display_data"
    }
   ],
   "source": [
    "plt.figure(figsize=(18,10))\n",
    "sns.barplot(x=df['Source'],y=df['Price'],hue=df['Destination'])\n",
    "plt.title('Price Based on Source and Destination',fontdict = {'fontsize' : 20},loc ='center', )\n",
    "plt.xticks(rotation=45)\n",
    "#ax.set_xticklabels(ax.get_xticklabels(),rotation=90)\n",
    "plt.show()"
   ]
  },
  {
   "cell_type": "markdown",
   "metadata": {},
   "source": [
    "### Price based on Airline and Duration"
   ]
  },
  {
   "cell_type": "code",
   "execution_count": 18,
   "metadata": {},
   "outputs": [
    {
     "data": {
      "text/plain": [
       "Airline                            Total_Stops\n",
       "Air Asia                           1 stop          7078.325581\n",
       "                                   2 stops         6341.888889\n",
       "                                   non-stop        4492.331492\n",
       "Air India                          1 stop          9041.509259\n",
       "                                   2 stops        12092.779101\n",
       "                                   3 stops        12208.054054\n",
       "                                   4 stops        17686.000000\n",
       "                                   non-stop        5605.326139\n",
       "GoAir                              1 stop          6884.676471\n",
       "                                   non-stop        4726.173913\n",
       "IndiGo                             1 stop          7104.717528\n",
       "                                   2 stops         7507.526316\n",
       "                                   non-stop        4731.174053\n",
       "Jet Airways                        1 stop         12512.741223\n",
       "                                   2 stops        13387.247467\n",
       "                                   non-stop        6175.078652\n",
       "Jet Airways Business               1 stop         62844.250000\n",
       "                                   2 stops        49387.500000\n",
       "Multiple carriers                  1 stop         10711.316157\n",
       "                                   2 stops        14809.395349\n",
       "                                   3 stops        17292.750000\n",
       "Multiple carriers Premium economy  1 stop         11418.846154\n",
       "SpiceJet                           1 stop          6750.560811\n",
       "                                   non-stop        3805.423881\n",
       "Trujet                             1 stop          4140.000000\n",
       "Vistara                            1 stop          9641.148837\n",
       "                                   non-stop        6293.954545\n",
       "Vistara Premium economy            non-stop        8962.333333\n",
       "Name: Price, dtype: float64"
      ]
     },
     "execution_count": 18,
     "metadata": {},
     "output_type": "execute_result"
    }
   ],
   "source": [
    "df.groupby(['Airline','Total_Stops'])['Price'].mean()"
   ]
  },
  {
   "cell_type": "code",
   "execution_count": 19,
   "metadata": {},
   "outputs": [
    {
     "data": {
      "image/png": "[encoded data removed]",
      "text/plain": [
       "<Figure size 1296x720 with 1 Axes>"
      ]
     },
     "metadata": {
      "needs_background": "light"
     },
     "output_type": "display_data"
    }
   ],
   "source": [
    "plt.figure(figsize=(18,10))\n",
    "sns.barplot(x=df['Airline'],y=df['Price'],hue=df['Total_Stops'])\n",
    "plt.title('Price Based on Airline and Total stops',fontdict = {'fontsize' : 20},loc ='center', )\n",
    "plt.xticks(rotation=45)\n",
    "#ax.set_xticklabels(ax.get_xticklabels(),rotation=90)\n",
    "plt.show()"
   ]
  },
  {
   "cell_type": "code",
   "execution_count": 20,
   "metadata": {},
   "outputs": [
    {
     "data": {
      "text/html": [
       "<div>\n",
       "<style scoped>\n",
       "    .dataframe tbody tr th:only-of-type {\n",
       "        vertical-align: middle;\n",
       "    }\n",
       "\n",
       "    .dataframe tbody tr th {\n",
       "        vertical-align: top;\n",
       "    }\n",
       "\n",
       "    .dataframe thead th {\n",
       "        text-align: right;\n",
       "    }\n",
       "</style>\n",
       "<table border=\"1\" class=\"dataframe\">\n",
       "  <thead>\n",
       "    <tr style=\"text-align: right;\">\n",
       "      <th></th>\n",
       "      <th>Air India</th>\n",
       "      <th>GoAir</th>\n",
       "      <th>IndiGo</th>\n",
       "      <th>Jet Airways</th>\n",
       "      <th>Jet Airways Business</th>\n",
       "      <th>Multiple carriers</th>\n",
       "      <th>Multiple carriers Premium economy</th>\n",
       "      <th>SpiceJet</th>\n",
       "      <th>Trujet</th>\n",
       "      <th>Vistara</th>\n",
       "      <th>Vistara Premium economy</th>\n",
       "    </tr>\n",
       "  </thead>\n",
       "  <tbody>\n",
       "    <tr>\n",
       "      <th>0</th>\n",
       "      <td>0</td>\n",
       "      <td>0</td>\n",
       "      <td>1</td>\n",
       "      <td>0</td>\n",
       "      <td>0</td>\n",
       "      <td>0</td>\n",
       "      <td>0</td>\n",
       "      <td>0</td>\n",
       "      <td>0</td>\n",
       "      <td>0</td>\n",
       "      <td>0</td>\n",
       "    </tr>\n",
       "    <tr>\n",
       "      <th>1</th>\n",
       "      <td>1</td>\n",
       "      <td>0</td>\n",
       "      <td>0</td>\n",
       "      <td>0</td>\n",
       "      <td>0</td>\n",
       "      <td>0</td>\n",
       "      <td>0</td>\n",
       "      <td>0</td>\n",
       "      <td>0</td>\n",
       "      <td>0</td>\n",
       "      <td>0</td>\n",
       "    </tr>\n",
       "    <tr>\n",
       "      <th>2</th>\n",
       "      <td>0</td>\n",
       "      <td>0</td>\n",
       "      <td>0</td>\n",
       "      <td>1</td>\n",
       "      <td>0</td>\n",
       "      <td>0</td>\n",
       "      <td>0</td>\n",
       "      <td>0</td>\n",
       "      <td>0</td>\n",
       "      <td>0</td>\n",
       "      <td>0</td>\n",
       "    </tr>\n",
       "    <tr>\n",
       "      <th>3</th>\n",
       "      <td>0</td>\n",
       "      <td>0</td>\n",
       "      <td>1</td>\n",
       "      <td>0</td>\n",
       "      <td>0</td>\n",
       "      <td>0</td>\n",
       "      <td>0</td>\n",
       "      <td>0</td>\n",
       "      <td>0</td>\n",
       "      <td>0</td>\n",
       "      <td>0</td>\n",
       "    </tr>\n",
       "    <tr>\n",
       "      <th>4</th>\n",
       "      <td>0</td>\n",
       "      <td>0</td>\n",
       "      <td>1</td>\n",
       "      <td>0</td>\n",
       "      <td>0</td>\n",
       "      <td>0</td>\n",
       "      <td>0</td>\n",
       "      <td>0</td>\n",
       "      <td>0</td>\n",
       "      <td>0</td>\n",
       "      <td>0</td>\n",
       "    </tr>\n",
       "  </tbody>\n",
       "</table>\n",
       "</div>"
      ],
      "text/plain": [
       "   Air India  GoAir  IndiGo  Jet Airways  Jet Airways Business  \\\n",
       "0          0      0       1            0                     0   \n",
       "1          1      0       0            0                     0   \n",
       "2          0      0       0            1                     0   \n",
       "3          0      0       1            0                     0   \n",
       "4          0      0       1            0                     0   \n",
       "\n",
       "   Multiple carriers  Multiple carriers Premium economy  SpiceJet  Trujet  \\\n",
       "0                  0                                  0         0       0   \n",
       "1                  0                                  0         0       0   \n",
       "2                  0                                  0         0       0   \n",
       "3                  0                                  0         0       0   \n",
       "4                  0                                  0         0       0   \n",
       "\n",
       "   Vistara  Vistara Premium economy  \n",
       "0        0                        0  \n",
       "1        0                        0  \n",
       "2        0                        0  \n",
       "3        0                        0  \n",
       "4        0                        0  "
      ]
     },
     "execution_count": 20,
     "metadata": {},
     "output_type": "execute_result"
    }
   ],
   "source": [
    "#One hot encoding  converting categorical columns to numerical columns\n",
    "\n",
    "Airline_dummy=pd.get_dummies(df['Airline'],drop_first=True)\n",
    "Airline_dummy.head()"
   ]
  },
  {
   "cell_type": "code",
   "execution_count": 21,
   "metadata": {},
   "outputs": [
    {
     "data": {
      "text/plain": [
       "0    24/03/2019\n",
       "1     1/05/2019\n",
       "2     9/06/2019\n",
       "3    12/05/2019\n",
       "4    01/03/2019\n",
       "Name: Date_of_Journey, dtype: object"
      ]
     },
     "execution_count": 21,
     "metadata": {},
     "output_type": "execute_result"
    }
   ],
   "source": [
    "df.Date_of_Journey.head()"
   ]
  },
  {
   "cell_type": "code",
   "execution_count": 22,
   "metadata": {},
   "outputs": [],
   "source": [
    "df['Date']=df.Date_of_Journey.apply(lambda x: x.split('/')).apply(lambda x: x[0])\n",
    "df['Date']=df.Date.astype('int64')"
   ]
  },
  {
   "cell_type": "code",
   "execution_count": 23,
   "metadata": {},
   "outputs": [],
   "source": [
    "df['Month']=df.Date_of_Journey.apply(lambda x: x.split('/')).apply(lambda x: x[1])\n",
    "df['Month']=df.Month.astype('int64')"
   ]
  },
  {
   "cell_type": "code",
   "execution_count": 24,
   "metadata": {},
   "outputs": [],
   "source": [
    "#df.Date_of_Journey=pd.to_datetime(df.Date_of_Journey)"
   ]
  },
  {
   "cell_type": "code",
   "execution_count": 25,
   "metadata": {},
   "outputs": [
    {
     "data": {
      "text/plain": [
       "Index(['Airline', 'Date_of_Journey', 'Source', 'Destination', 'Route',\n",
       "       'Dep_Time', 'Arrival_Time', 'Duration', 'Total_Stops',\n",
       "       'Additional_Info', 'Price', 'Date', 'Month'],\n",
       "      dtype='object')"
      ]
     },
     "execution_count": 25,
     "metadata": {},
     "output_type": "execute_result"
    }
   ],
   "source": [
    "df.columns"
   ]
  },
  {
   "cell_type": "code",
   "execution_count": 26,
   "metadata": {},
   "outputs": [
    {
     "data": {
      "text/html": [
       "<div>\n",
       "<style scoped>\n",
       "    .dataframe tbody tr th:only-of-type {\n",
       "        vertical-align: middle;\n",
       "    }\n",
       "\n",
       "    .dataframe tbody tr th {\n",
       "        vertical-align: top;\n",
       "    }\n",
       "\n",
       "    .dataframe thead th {\n",
       "        text-align: right;\n",
       "    }\n",
       "</style>\n",
       "<table border=\"1\" class=\"dataframe\">\n",
       "  <thead>\n",
       "    <tr style=\"text-align: right;\">\n",
       "      <th></th>\n",
       "      <th>Airline</th>\n",
       "      <th>Date_of_Journey</th>\n",
       "      <th>Source</th>\n",
       "      <th>Destination</th>\n",
       "      <th>Route</th>\n",
       "      <th>Dep_Time</th>\n",
       "      <th>Arrival_Time</th>\n",
       "      <th>Duration</th>\n",
       "      <th>Total_Stops</th>\n",
       "      <th>Additional_Info</th>\n",
       "      <th>Price</th>\n",
       "      <th>Date</th>\n",
       "      <th>Month</th>\n",
       "    </tr>\n",
       "  </thead>\n",
       "  <tbody>\n",
       "    <tr>\n",
       "      <th>0</th>\n",
       "      <td>IndiGo</td>\n",
       "      <td>24/03/2019</td>\n",
       "      <td>Banglore</td>\n",
       "      <td>New Delhi</td>\n",
       "      <td>BLR → DEL</td>\n",
       "      <td>22:20</td>\n",
       "      <td>01:10 22 Mar</td>\n",
       "      <td>2h 50m</td>\n",
       "      <td>non-stop</td>\n",
       "      <td>No info</td>\n",
       "      <td>3897</td>\n",
       "      <td>24</td>\n",
       "      <td>3</td>\n",
       "    </tr>\n",
       "    <tr>\n",
       "      <th>1</th>\n",
       "      <td>Air India</td>\n",
       "      <td>1/05/2019</td>\n",
       "      <td>Kolkata</td>\n",
       "      <td>Ka_Banglore</td>\n",
       "      <td>CCU → IXR → BBI → BLR</td>\n",
       "      <td>05:50</td>\n",
       "      <td>13:15</td>\n",
       "      <td>7h 25m</td>\n",
       "      <td>2 stops</td>\n",
       "      <td>No info</td>\n",
       "      <td>7662</td>\n",
       "      <td>1</td>\n",
       "      <td>5</td>\n",
       "    </tr>\n",
       "    <tr>\n",
       "      <th>2</th>\n",
       "      <td>Jet Airways</td>\n",
       "      <td>9/06/2019</td>\n",
       "      <td>Delhi</td>\n",
       "      <td>Cochin</td>\n",
       "      <td>DEL → LKO → BOM → COK</td>\n",
       "      <td>09:25</td>\n",
       "      <td>04:25 10 Jun</td>\n",
       "      <td>19h</td>\n",
       "      <td>2 stops</td>\n",
       "      <td>No info</td>\n",
       "      <td>13882</td>\n",
       "      <td>9</td>\n",
       "      <td>6</td>\n",
       "    </tr>\n",
       "    <tr>\n",
       "      <th>3</th>\n",
       "      <td>IndiGo</td>\n",
       "      <td>12/05/2019</td>\n",
       "      <td>Kolkata</td>\n",
       "      <td>Ka_Banglore</td>\n",
       "      <td>CCU → NAG → BLR</td>\n",
       "      <td>18:05</td>\n",
       "      <td>23:30</td>\n",
       "      <td>5h 25m</td>\n",
       "      <td>1 stop</td>\n",
       "      <td>No info</td>\n",
       "      <td>6218</td>\n",
       "      <td>12</td>\n",
       "      <td>5</td>\n",
       "    </tr>\n",
       "    <tr>\n",
       "      <th>4</th>\n",
       "      <td>IndiGo</td>\n",
       "      <td>01/03/2019</td>\n",
       "      <td>Banglore</td>\n",
       "      <td>New Delhi</td>\n",
       "      <td>BLR → NAG → DEL</td>\n",
       "      <td>16:50</td>\n",
       "      <td>21:35</td>\n",
       "      <td>4h 45m</td>\n",
       "      <td>1 stop</td>\n",
       "      <td>No info</td>\n",
       "      <td>13302</td>\n",
       "      <td>1</td>\n",
       "      <td>3</td>\n",
       "    </tr>\n",
       "  </tbody>\n",
       "</table>\n",
       "</div>"
      ],
      "text/plain": [
       "       Airline Date_of_Journey    Source  Destination                  Route  \\\n",
       "0       IndiGo      24/03/2019  Banglore    New Delhi              BLR → DEL   \n",
       "1    Air India       1/05/2019   Kolkata  Ka_Banglore  CCU → IXR → BBI → BLR   \n",
       "2  Jet Airways       9/06/2019     Delhi       Cochin  DEL → LKO → BOM → COK   \n",
       "3       IndiGo      12/05/2019   Kolkata  Ka_Banglore        CCU → NAG → BLR   \n",
       "4       IndiGo      01/03/2019  Banglore    New Delhi        BLR → NAG → DEL   \n",
       "\n",
       "  Dep_Time  Arrival_Time Duration Total_Stops Additional_Info  Price  Date  \\\n",
       "0    22:20  01:10 22 Mar   2h 50m    non-stop         No info   3897    24   \n",
       "1    05:50         13:15   7h 25m     2 stops         No info   7662     1   \n",
       "2    09:25  04:25 10 Jun      19h     2 stops         No info  13882     9   \n",
       "3    18:05         23:30   5h 25m      1 stop         No info   6218    12   \n",
       "4    16:50         21:35   4h 45m      1 stop         No info  13302     1   \n",
       "\n",
       "   Month  \n",
       "0      3  \n",
       "1      5  \n",
       "2      6  \n",
       "3      5  \n",
       "4      3  "
      ]
     },
     "execution_count": 26,
     "metadata": {},
     "output_type": "execute_result"
    }
   ],
   "source": [
    "df.head()"
   ]
  },
  {
   "cell_type": "code",
   "execution_count": 27,
   "metadata": {},
   "outputs": [],
   "source": [
    "df['Dep_Hour']=df.Dep_Time.apply(lambda x: x.split(':')).apply(lambda x: x[0])\n",
    "df['Dep_Hour']=df['Dep_Hour'].astype('int64')"
   ]
  },
  {
   "cell_type": "code",
   "execution_count": 28,
   "metadata": {},
   "outputs": [],
   "source": [
    "df['Dep_Min']=df.Dep_Time.apply(lambda x: x.split(':')).apply(lambda x: x[0])\n",
    "df['Dep_Min']=df['Dep_Min'].astype('int64')"
   ]
  },
  {
   "cell_type": "code",
   "execution_count": 29,
   "metadata": {},
   "outputs": [
    {
     "data": {
      "text/plain": [
       "0    2h 50m\n",
       "1    7h 25m\n",
       "2       19h\n",
       "3    5h 25m\n",
       "4    4h 45m\n",
       "Name: Duration, dtype: object"
      ]
     },
     "execution_count": 29,
     "metadata": {},
     "output_type": "execute_result"
    }
   ],
   "source": [
    "\n",
    "df['Duration'].head()"
   ]
  },
  {
   "cell_type": "code",
   "execution_count": 30,
   "metadata": {},
   "outputs": [],
   "source": [
    "lst_dur=list(df['Duration'])\n",
    "lst_hour=[]\n",
    "lst_min=[]"
   ]
  },
  {
   "cell_type": "code",
   "execution_count": 31,
   "metadata": {},
   "outputs": [],
   "source": [
    "for i in range(len(lst_dur)):\n",
    "    if len(lst_dur[i].split())!=2:\n",
    "        if 'h' in lst_dur[i]:\n",
    "            lst_dur[i]=lst_dur[i].strip()+' 0m'\n",
    "        else:\n",
    "            lst_dur[i]='0h '+lst_dur[i]\n",
    "        "
   ]
  },
  {
   "cell_type": "code",
   "execution_count": 32,
   "metadata": {},
   "outputs": [],
   "source": [
    "lst2=[]\n",
    "lst3=[]\n",
    "lst1=lst_dur\n",
    "for i in range(len(lst1)):\n",
    "    lst1[i]=lst1[i].split(' ')\n",
    "    lst1[i][0]=lst1[i][0]\n",
    "    lst1[i][0]=lst1[i][0].split('h')\n",
    "    lst1[i][1]=lst1[i][1].split('m')\n",
    "    lst2.append(int(lst1[i][0][0]))\n",
    "    lst3.append(int(lst1[i][1][0]))\n",
    "\n",
    "df['Duration_hour']=lst2\n",
    "df['Duration_min']=lst3"
   ]
  },
  {
   "cell_type": "code",
   "execution_count": 33,
   "metadata": {},
   "outputs": [],
   "source": [
    "#df.Dep_Time.head()\n",
    "df['Arrival_hour']=df.Arrival_Time.apply(lambda x: x.split(':')).apply(lambda x: x[0])\n",
    "df['Arrival_hour']=df['Arrival_hour'].astype('int64')"
   ]
  },
  {
   "cell_type": "code",
   "execution_count": 34,
   "metadata": {},
   "outputs": [
    {
     "data": {
      "text/plain": [
       "0    10\n",
       "1    15\n",
       "2    25\n",
       "3    30\n",
       "4    35\n",
       "Name: Arrival_min, dtype: int64"
      ]
     },
     "execution_count": 34,
     "metadata": {},
     "output_type": "execute_result"
    }
   ],
   "source": [
    "df['Arrival_min']=df.Arrival_Time.apply(lambda x: x.split(':')).apply(lambda x: x[1])\n",
    "df['Arrival_min']=df.Arrival_min.apply(lambda x: x.split(' ')).apply(lambda x: x[0]).astype('int64')#=df['Arrival_min'].astype('int64')\n",
    "df['Arrival_min'].head()"
   ]
  },
  {
   "cell_type": "code",
   "execution_count": 35,
   "metadata": {},
   "outputs": [
    {
     "data": {
      "text/plain": [
       "Delhi       4536\n",
       "Kolkata     2871\n",
       "Banglore    2197\n",
       "Mumbai       697\n",
       "Chennai      381\n",
       "Name: Source, dtype: int64"
      ]
     },
     "execution_count": 35,
     "metadata": {},
     "output_type": "execute_result"
    }
   ],
   "source": [
    "df.Source.value_counts()"
   ]
  },
  {
   "cell_type": "code",
   "execution_count": 36,
   "metadata": {},
   "outputs": [
    {
     "data": {
      "text/plain": [
       "Cochin         4536\n",
       "Ka_Banglore    2871\n",
       "New Delhi      2197\n",
       "Hyderabad       697\n",
       "Wb_Kolkata      381\n",
       "Name: Destination, dtype: int64"
      ]
     },
     "execution_count": 36,
     "metadata": {},
     "output_type": "execute_result"
    }
   ],
   "source": [
    "df.Destination.value_counts()"
   ]
  },
  {
   "cell_type": "code",
   "execution_count": null,
   "metadata": {},
   "outputs": [],
   "source": []
  },
  {
   "cell_type": "code",
   "execution_count": 37,
   "metadata": {},
   "outputs": [
    {
     "data": {
      "text/plain": [
       "Cochin         4536\n",
       "Ka_Banglore    2871\n",
       "New Delhi      2197\n",
       "Hyderabad       697\n",
       "Wb_Kolkata      381\n",
       "Name: Destination, dtype: int64"
      ]
     },
     "execution_count": 37,
     "metadata": {},
     "output_type": "execute_result"
    }
   ],
   "source": [
    "df.Destination.value_counts()"
   ]
  },
  {
   "cell_type": "code",
   "execution_count": 38,
   "metadata": {},
   "outputs": [],
   "source": [
    "Source_dummy=pd.get_dummies(df.Source,drop_first=True) # one hot encoding\n",
    "Desination_dummy=pd.get_dummies(df.Destination,drop_first=True) # one hot encoding\n"
   ]
  },
  {
   "cell_type": "code",
   "execution_count": 39,
   "metadata": {},
   "outputs": [
    {
     "data": {
      "text/plain": [
       "1 stop      5625\n",
       "non-stop    3491\n",
       "2 stops     1520\n",
       "3 stops       45\n",
       "4 stops        1\n",
       "Name: Total_Stops, dtype: int64"
      ]
     },
     "execution_count": 39,
     "metadata": {},
     "output_type": "execute_result"
    }
   ],
   "source": [
    "df.Total_Stops.value_counts()"
   ]
  },
  {
   "cell_type": "code",
   "execution_count": 40,
   "metadata": {},
   "outputs": [],
   "source": [
    "Total_Stops_dummy=pd.get_dummies(df.Total_Stops,drop_first=True) # one hot encoding"
   ]
  },
  {
   "cell_type": "code",
   "execution_count": 41,
   "metadata": {},
   "outputs": [
    {
     "data": {
      "text/html": [
       "<div>\n",
       "<style scoped>\n",
       "    .dataframe tbody tr th:only-of-type {\n",
       "        vertical-align: middle;\n",
       "    }\n",
       "\n",
       "    .dataframe tbody tr th {\n",
       "        vertical-align: top;\n",
       "    }\n",
       "\n",
       "    .dataframe thead th {\n",
       "        text-align: right;\n",
       "    }\n",
       "</style>\n",
       "<table border=\"1\" class=\"dataframe\">\n",
       "  <thead>\n",
       "    <tr style=\"text-align: right;\">\n",
       "      <th></th>\n",
       "      <th>2 stops</th>\n",
       "      <th>3 stops</th>\n",
       "      <th>4 stops</th>\n",
       "      <th>non-stop</th>\n",
       "    </tr>\n",
       "  </thead>\n",
       "  <tbody>\n",
       "    <tr>\n",
       "      <th>0</th>\n",
       "      <td>0</td>\n",
       "      <td>0</td>\n",
       "      <td>0</td>\n",
       "      <td>1</td>\n",
       "    </tr>\n",
       "    <tr>\n",
       "      <th>1</th>\n",
       "      <td>1</td>\n",
       "      <td>0</td>\n",
       "      <td>0</td>\n",
       "      <td>0</td>\n",
       "    </tr>\n",
       "    <tr>\n",
       "      <th>2</th>\n",
       "      <td>1</td>\n",
       "      <td>0</td>\n",
       "      <td>0</td>\n",
       "      <td>0</td>\n",
       "    </tr>\n",
       "    <tr>\n",
       "      <th>3</th>\n",
       "      <td>0</td>\n",
       "      <td>0</td>\n",
       "      <td>0</td>\n",
       "      <td>0</td>\n",
       "    </tr>\n",
       "    <tr>\n",
       "      <th>4</th>\n",
       "      <td>0</td>\n",
       "      <td>0</td>\n",
       "      <td>0</td>\n",
       "      <td>0</td>\n",
       "    </tr>\n",
       "  </tbody>\n",
       "</table>\n",
       "</div>"
      ],
      "text/plain": [
       "   2 stops  3 stops  4 stops  non-stop\n",
       "0        0        0        0         1\n",
       "1        1        0        0         0\n",
       "2        1        0        0         0\n",
       "3        0        0        0         0\n",
       "4        0        0        0         0"
      ]
     },
     "execution_count": 41,
     "metadata": {},
     "output_type": "execute_result"
    }
   ],
   "source": [
    "Total_Stops_dummy.head()"
   ]
  },
  {
   "cell_type": "code",
   "execution_count": 42,
   "metadata": {},
   "outputs": [],
   "source": [
    "#df=pd.concat([Airline_dummy,Source_dummy,Desination_dummy,Total_Stops_dummy,df],axis=1)"
   ]
  },
  {
   "cell_type": "code",
   "execution_count": 43,
   "metadata": {},
   "outputs": [],
   "source": [
    "df=pd.concat([Airline_dummy,Source_dummy,Desination_dummy,Total_Stops_dummy,df],axis=1)\n"
   ]
  },
  {
   "cell_type": "code",
   "execution_count": 44,
   "metadata": {},
   "outputs": [
    {
     "data": {
      "text/plain": [
       "Index(['Air India', 'GoAir', 'IndiGo', 'Jet Airways', 'Jet Airways Business',\n",
       "       'Multiple carriers', 'Multiple carriers Premium economy', 'SpiceJet',\n",
       "       'Trujet', 'Vistara', 'Vistara Premium economy', 'Chennai', 'Delhi',\n",
       "       'Kolkata', 'Mumbai', 'Hyderabad', 'Ka_Banglore', 'New Delhi',\n",
       "       'Wb_Kolkata', '2 stops', '3 stops', '4 stops', 'non-stop', 'Airline',\n",
       "       'Date_of_Journey', 'Source', 'Destination', 'Route', 'Dep_Time',\n",
       "       'Arrival_Time', 'Duration', 'Total_Stops', 'Additional_Info', 'Price',\n",
       "       'Date', 'Month', 'Dep_Hour', 'Dep_Min', 'Duration_hour', 'Duration_min',\n",
       "       'Arrival_hour', 'Arrival_min'],\n",
       "      dtype='object')"
      ]
     },
     "execution_count": 44,
     "metadata": {},
     "output_type": "execute_result"
    }
   ],
   "source": [
    "df.columns"
   ]
  },
  {
   "cell_type": "code",
   "execution_count": 45,
   "metadata": {},
   "outputs": [],
   "source": [
    "df=df.drop(['Airline','Date_of_Journey', 'Source', 'Destination', 'Route','Duration','Total_Stops','Arrival_Time'],axis=1)"
   ]
  },
  {
   "cell_type": "code",
   "execution_count": 46,
   "metadata": {},
   "outputs": [
    {
     "data": {
      "text/plain": [
       "Index(['Air India', 'GoAir', 'IndiGo', 'Jet Airways', 'Jet Airways Business',\n",
       "       'Multiple carriers', 'Multiple carriers Premium economy', 'SpiceJet',\n",
       "       'Trujet', 'Vistara', 'Vistara Premium economy', 'Chennai', 'Delhi',\n",
       "       'Kolkata', 'Mumbai', 'Hyderabad', 'Ka_Banglore', 'New Delhi',\n",
       "       'Wb_Kolkata', '2 stops', '3 stops', '4 stops', 'non-stop', 'Dep_Time',\n",
       "       'Additional_Info', 'Price', 'Date', 'Month', 'Dep_Hour', 'Dep_Min',\n",
       "       'Duration_hour', 'Duration_min', 'Arrival_hour', 'Arrival_min'],\n",
       "      dtype='object')"
      ]
     },
     "execution_count": 46,
     "metadata": {},
     "output_type": "execute_result"
    }
   ],
   "source": [
    "df.columns"
   ]
  },
  {
   "cell_type": "code",
   "execution_count": 47,
   "metadata": {},
   "outputs": [],
   "source": [
    "#df.Route.value_counts()"
   ]
  },
  {
   "cell_type": "code",
   "execution_count": 48,
   "metadata": {},
   "outputs": [
    {
     "data": {
      "text/plain": [
       "array(['No info', 'In-flight meal not included',\n",
       "       'No check-in baggage included', '1 Short layover', 'No Info',\n",
       "       '1 Long layover', 'Change airports', 'Business class',\n",
       "       'Red-eye flight', '2 Long layover'], dtype=object)"
      ]
     },
     "execution_count": 48,
     "metadata": {},
     "output_type": "execute_result"
    }
   ],
   "source": [
    "df.Additional_Info.unique()"
   ]
  },
  {
   "cell_type": "code",
   "execution_count": 49,
   "metadata": {},
   "outputs": [
    {
     "data": {
      "text/plain": [
       "No info                         8344\n",
       "In-flight meal not included     1982\n",
       "No check-in baggage included     320\n",
       "1 Long layover                    19\n",
       "Change airports                    7\n",
       "Business class                     4\n",
       "No Info                            3\n",
       "1 Short layover                    1\n",
       "Red-eye flight                     1\n",
       "2 Long layover                     1\n",
       "Name: Additional_Info, dtype: int64"
      ]
     },
     "execution_count": 49,
     "metadata": {},
     "output_type": "execute_result"
    }
   ],
   "source": [
    "df.Additional_Info.value_counts()"
   ]
  },
  {
   "cell_type": "code",
   "execution_count": 50,
   "metadata": {},
   "outputs": [],
   "source": [
    "df.Additional_Info=df.Additional_Info.replace({'No Info':'No info'})"
   ]
  },
  {
   "cell_type": "code",
   "execution_count": 51,
   "metadata": {},
   "outputs": [
    {
     "data": {
      "text/plain": [
       "No info                         8347\n",
       "In-flight meal not included     1982\n",
       "No check-in baggage included     320\n",
       "1 Long layover                    19\n",
       "Change airports                    7\n",
       "Business class                     4\n",
       "1 Short layover                    1\n",
       "Red-eye flight                     1\n",
       "2 Long layover                     1\n",
       "Name: Additional_Info, dtype: int64"
      ]
     },
     "execution_count": 51,
     "metadata": {},
     "output_type": "execute_result"
    }
   ],
   "source": [
    "df.Additional_Info.value_counts()"
   ]
  },
  {
   "cell_type": "code",
   "execution_count": 52,
   "metadata": {},
   "outputs": [],
   "source": [
    "#df.Additional_Info=df.Additional_Info.replace({'No info':0,'In-flight meal not included':1,'No check-in baggage included':2,'1 Long layover':3,'Change airports':4,'Business class':5,'2 Long layover':6,'Red-eye flight':7,'1 Short layover':8})\n"
   ]
  },
  {
   "cell_type": "code",
   "execution_count": 53,
   "metadata": {},
   "outputs": [],
   "source": [
    "Additional_Info_dummy=pd.get_dummies(df.Additional_Info,drop_first=True) # one hot encoding"
   ]
  },
  {
   "cell_type": "code",
   "execution_count": 54,
   "metadata": {},
   "outputs": [],
   "source": [
    "df=pd.concat([Additional_Info_dummy,df],axis=1)"
   ]
  },
  {
   "cell_type": "code",
   "execution_count": 55,
   "metadata": {},
   "outputs": [],
   "source": [
    "#df.Additional_Info.value_counts()\n",
    "df.drop(['Additional_Info','Dep_Time'],axis=1,inplace=True)"
   ]
  },
  {
   "cell_type": "code",
   "execution_count": 56,
   "metadata": {},
   "outputs": [
    {
     "data": {
      "text/html": [
       "<div>\n",
       "<style scoped>\n",
       "    .dataframe tbody tr th:only-of-type {\n",
       "        vertical-align: middle;\n",
       "    }\n",
       "\n",
       "    .dataframe tbody tr th {\n",
       "        vertical-align: top;\n",
       "    }\n",
       "\n",
       "    .dataframe thead th {\n",
       "        text-align: right;\n",
       "    }\n",
       "</style>\n",
       "<table border=\"1\" class=\"dataframe\">\n",
       "  <thead>\n",
       "    <tr style=\"text-align: right;\">\n",
       "      <th></th>\n",
       "      <th>1 Short layover</th>\n",
       "      <th>2 Long layover</th>\n",
       "      <th>Business class</th>\n",
       "      <th>Change airports</th>\n",
       "      <th>In-flight meal not included</th>\n",
       "      <th>No check-in baggage included</th>\n",
       "      <th>No info</th>\n",
       "      <th>Red-eye flight</th>\n",
       "      <th>Air India</th>\n",
       "      <th>GoAir</th>\n",
       "      <th>...</th>\n",
       "      <th>non-stop</th>\n",
       "      <th>Price</th>\n",
       "      <th>Date</th>\n",
       "      <th>Month</th>\n",
       "      <th>Dep_Hour</th>\n",
       "      <th>Dep_Min</th>\n",
       "      <th>Duration_hour</th>\n",
       "      <th>Duration_min</th>\n",
       "      <th>Arrival_hour</th>\n",
       "      <th>Arrival_min</th>\n",
       "    </tr>\n",
       "  </thead>\n",
       "  <tbody>\n",
       "    <tr>\n",
       "      <th>0</th>\n",
       "      <td>0</td>\n",
       "      <td>0</td>\n",
       "      <td>0</td>\n",
       "      <td>0</td>\n",
       "      <td>0</td>\n",
       "      <td>0</td>\n",
       "      <td>1</td>\n",
       "      <td>0</td>\n",
       "      <td>0</td>\n",
       "      <td>0</td>\n",
       "      <td>...</td>\n",
       "      <td>1</td>\n",
       "      <td>3897</td>\n",
       "      <td>24</td>\n",
       "      <td>3</td>\n",
       "      <td>22</td>\n",
       "      <td>22</td>\n",
       "      <td>2</td>\n",
       "      <td>50</td>\n",
       "      <td>1</td>\n",
       "      <td>10</td>\n",
       "    </tr>\n",
       "    <tr>\n",
       "      <th>1</th>\n",
       "      <td>0</td>\n",
       "      <td>0</td>\n",
       "      <td>0</td>\n",
       "      <td>0</td>\n",
       "      <td>0</td>\n",
       "      <td>0</td>\n",
       "      <td>1</td>\n",
       "      <td>0</td>\n",
       "      <td>1</td>\n",
       "      <td>0</td>\n",
       "      <td>...</td>\n",
       "      <td>0</td>\n",
       "      <td>7662</td>\n",
       "      <td>1</td>\n",
       "      <td>5</td>\n",
       "      <td>5</td>\n",
       "      <td>5</td>\n",
       "      <td>7</td>\n",
       "      <td>25</td>\n",
       "      <td>13</td>\n",
       "      <td>15</td>\n",
       "    </tr>\n",
       "    <tr>\n",
       "      <th>2</th>\n",
       "      <td>0</td>\n",
       "      <td>0</td>\n",
       "      <td>0</td>\n",
       "      <td>0</td>\n",
       "      <td>0</td>\n",
       "      <td>0</td>\n",
       "      <td>1</td>\n",
       "      <td>0</td>\n",
       "      <td>0</td>\n",
       "      <td>0</td>\n",
       "      <td>...</td>\n",
       "      <td>0</td>\n",
       "      <td>13882</td>\n",
       "      <td>9</td>\n",
       "      <td>6</td>\n",
       "      <td>9</td>\n",
       "      <td>9</td>\n",
       "      <td>19</td>\n",
       "      <td>0</td>\n",
       "      <td>4</td>\n",
       "      <td>25</td>\n",
       "    </tr>\n",
       "    <tr>\n",
       "      <th>3</th>\n",
       "      <td>0</td>\n",
       "      <td>0</td>\n",
       "      <td>0</td>\n",
       "      <td>0</td>\n",
       "      <td>0</td>\n",
       "      <td>0</td>\n",
       "      <td>1</td>\n",
       "      <td>0</td>\n",
       "      <td>0</td>\n",
       "      <td>0</td>\n",
       "      <td>...</td>\n",
       "      <td>0</td>\n",
       "      <td>6218</td>\n",
       "      <td>12</td>\n",
       "      <td>5</td>\n",
       "      <td>18</td>\n",
       "      <td>18</td>\n",
       "      <td>5</td>\n",
       "      <td>25</td>\n",
       "      <td>23</td>\n",
       "      <td>30</td>\n",
       "    </tr>\n",
       "    <tr>\n",
       "      <th>4</th>\n",
       "      <td>0</td>\n",
       "      <td>0</td>\n",
       "      <td>0</td>\n",
       "      <td>0</td>\n",
       "      <td>0</td>\n",
       "      <td>0</td>\n",
       "      <td>1</td>\n",
       "      <td>0</td>\n",
       "      <td>0</td>\n",
       "      <td>0</td>\n",
       "      <td>...</td>\n",
       "      <td>0</td>\n",
       "      <td>13302</td>\n",
       "      <td>1</td>\n",
       "      <td>3</td>\n",
       "      <td>16</td>\n",
       "      <td>16</td>\n",
       "      <td>4</td>\n",
       "      <td>45</td>\n",
       "      <td>21</td>\n",
       "      <td>35</td>\n",
       "    </tr>\n",
       "  </tbody>\n",
       "</table>\n",
       "<p>5 rows × 40 columns</p>\n",
       "</div>"
      ],
      "text/plain": [
       "   1 Short layover  2 Long layover  Business class  Change airports  \\\n",
       "0                0               0               0                0   \n",
       "1                0               0               0                0   \n",
       "2                0               0               0                0   \n",
       "3                0               0               0                0   \n",
       "4                0               0               0                0   \n",
       "\n",
       "   In-flight meal not included  No check-in baggage included  No info  \\\n",
       "0                            0                             0        1   \n",
       "1                            0                             0        1   \n",
       "2                            0                             0        1   \n",
       "3                            0                             0        1   \n",
       "4                            0                             0        1   \n",
       "\n",
       "   Red-eye flight  Air India  GoAir  ...  non-stop  Price  Date  Month  \\\n",
       "0               0          0      0  ...         1   3897    24      3   \n",
       "1               0          1      0  ...         0   7662     1      5   \n",
       "2               0          0      0  ...         0  13882     9      6   \n",
       "3               0          0      0  ...         0   6218    12      5   \n",
       "4               0          0      0  ...         0  13302     1      3   \n",
       "\n",
       "   Dep_Hour  Dep_Min  Duration_hour  Duration_min  Arrival_hour  Arrival_min  \n",
       "0        22       22              2            50             1           10  \n",
       "1         5        5              7            25            13           15  \n",
       "2         9        9             19             0             4           25  \n",
       "3        18       18              5            25            23           30  \n",
       "4        16       16              4            45            21           35  \n",
       "\n",
       "[5 rows x 40 columns]"
      ]
     },
     "execution_count": 56,
     "metadata": {},
     "output_type": "execute_result"
    }
   ],
   "source": [
    "df.head()"
   ]
  },
  {
   "cell_type": "code",
   "execution_count": 57,
   "metadata": {},
   "outputs": [
    {
     "data": {
      "text/plain": [
       "Index(['1 Short layover', '2 Long layover', 'Business class',\n",
       "       'Change airports', 'In-flight meal not included',\n",
       "       'No check-in baggage included', 'No info', 'Red-eye flight',\n",
       "       'Air India', 'GoAir', 'IndiGo', 'Jet Airways', 'Jet Airways Business',\n",
       "       'Multiple carriers', 'Multiple carriers Premium economy', 'SpiceJet',\n",
       "       'Trujet', 'Vistara', 'Vistara Premium economy', 'Chennai', 'Delhi',\n",
       "       'Kolkata', 'Mumbai', 'Hyderabad', 'Ka_Banglore', 'New Delhi',\n",
       "       'Wb_Kolkata', '2 stops', '3 stops', '4 stops', 'non-stop', 'Price',\n",
       "       'Date', 'Month', 'Dep_Hour', 'Dep_Min', 'Duration_hour', 'Duration_min',\n",
       "       'Arrival_hour', 'Arrival_min'],\n",
       "      dtype='object')"
      ]
     },
     "execution_count": 57,
     "metadata": {},
     "output_type": "execute_result"
    }
   ],
   "source": [
    "df.columns.T"
   ]
  },
  {
   "cell_type": "code",
   "execution_count": 58,
   "metadata": {},
   "outputs": [],
   "source": [
    "#df.info()"
   ]
  },
  {
   "cell_type": "code",
   "execution_count": 59,
   "metadata": {},
   "outputs": [],
   "source": [
    "#X_train.corr()"
   ]
  },
  {
   "cell_type": "code",
   "execution_count": 60,
   "metadata": {},
   "outputs": [],
   "source": [
    "#plt.figure(figsize=(12, 9))\n",
    "#sns.heatmap(X_train.corr(),annot=True,cmap='RdYlGn');"
   ]
  },
  {
   "cell_type": "markdown",
   "metadata": {},
   "source": [
    "# Test data preprocessing"
   ]
  },
  {
   "cell_type": "code",
   "execution_count": 61,
   "metadata": {},
   "outputs": [
    {
     "data": {
      "text/html": [
       "<div>\n",
       "<style scoped>\n",
       "    .dataframe tbody tr th:only-of-type {\n",
       "        vertical-align: middle;\n",
       "    }\n",
       "\n",
       "    .dataframe tbody tr th {\n",
       "        vertical-align: top;\n",
       "    }\n",
       "\n",
       "    .dataframe thead th {\n",
       "        text-align: right;\n",
       "    }\n",
       "</style>\n",
       "<table border=\"1\" class=\"dataframe\">\n",
       "  <thead>\n",
       "    <tr style=\"text-align: right;\">\n",
       "      <th></th>\n",
       "      <th>Airline</th>\n",
       "      <th>Date_of_Journey</th>\n",
       "      <th>Source</th>\n",
       "      <th>Destination</th>\n",
       "      <th>Route</th>\n",
       "      <th>Dep_Time</th>\n",
       "      <th>Arrival_Time</th>\n",
       "      <th>Duration</th>\n",
       "      <th>Total_Stops</th>\n",
       "      <th>Additional_Info</th>\n",
       "    </tr>\n",
       "  </thead>\n",
       "  <tbody>\n",
       "    <tr>\n",
       "      <th>0</th>\n",
       "      <td>Jet Airways</td>\n",
       "      <td>6/06/2019</td>\n",
       "      <td>Delhi</td>\n",
       "      <td>Cochin</td>\n",
       "      <td>DEL → BOM → COK</td>\n",
       "      <td>17:30</td>\n",
       "      <td>04:25 07 Jun</td>\n",
       "      <td>10h 55m</td>\n",
       "      <td>1 stop</td>\n",
       "      <td>No info</td>\n",
       "    </tr>\n",
       "    <tr>\n",
       "      <th>1</th>\n",
       "      <td>IndiGo</td>\n",
       "      <td>12/05/2019</td>\n",
       "      <td>Kolkata</td>\n",
       "      <td>Banglore</td>\n",
       "      <td>CCU → MAA → BLR</td>\n",
       "      <td>06:20</td>\n",
       "      <td>10:20</td>\n",
       "      <td>4h</td>\n",
       "      <td>1 stop</td>\n",
       "      <td>No info</td>\n",
       "    </tr>\n",
       "    <tr>\n",
       "      <th>2</th>\n",
       "      <td>Jet Airways</td>\n",
       "      <td>21/05/2019</td>\n",
       "      <td>Delhi</td>\n",
       "      <td>Cochin</td>\n",
       "      <td>DEL → BOM → COK</td>\n",
       "      <td>19:15</td>\n",
       "      <td>19:00 22 May</td>\n",
       "      <td>23h 45m</td>\n",
       "      <td>1 stop</td>\n",
       "      <td>In-flight meal not included</td>\n",
       "    </tr>\n",
       "    <tr>\n",
       "      <th>3</th>\n",
       "      <td>Multiple carriers</td>\n",
       "      <td>21/05/2019</td>\n",
       "      <td>Delhi</td>\n",
       "      <td>Cochin</td>\n",
       "      <td>DEL → BOM → COK</td>\n",
       "      <td>08:00</td>\n",
       "      <td>21:00</td>\n",
       "      <td>13h</td>\n",
       "      <td>1 stop</td>\n",
       "      <td>No info</td>\n",
       "    </tr>\n",
       "    <tr>\n",
       "      <th>4</th>\n",
       "      <td>Air Asia</td>\n",
       "      <td>24/06/2019</td>\n",
       "      <td>Banglore</td>\n",
       "      <td>Delhi</td>\n",
       "      <td>BLR → DEL</td>\n",
       "      <td>23:55</td>\n",
       "      <td>02:45 25 Jun</td>\n",
       "      <td>2h 50m</td>\n",
       "      <td>non-stop</td>\n",
       "      <td>No info</td>\n",
       "    </tr>\n",
       "  </tbody>\n",
       "</table>\n",
       "</div>"
      ],
      "text/plain": [
       "             Airline Date_of_Journey    Source Destination            Route  \\\n",
       "0        Jet Airways       6/06/2019     Delhi      Cochin  DEL → BOM → COK   \n",
       "1             IndiGo      12/05/2019   Kolkata    Banglore  CCU → MAA → BLR   \n",
       "2        Jet Airways      21/05/2019     Delhi      Cochin  DEL → BOM → COK   \n",
       "3  Multiple carriers      21/05/2019     Delhi      Cochin  DEL → BOM → COK   \n",
       "4           Air Asia      24/06/2019  Banglore       Delhi        BLR → DEL   \n",
       "\n",
       "  Dep_Time  Arrival_Time Duration Total_Stops              Additional_Info  \n",
       "0    17:30  04:25 07 Jun  10h 55m      1 stop                      No info  \n",
       "1    06:20         10:20       4h      1 stop                      No info  \n",
       "2    19:15  19:00 22 May  23h 45m      1 stop  In-flight meal not included  \n",
       "3    08:00         21:00      13h      1 stop                      No info  \n",
       "4    23:55  02:45 25 Jun   2h 50m    non-stop                      No info  "
      ]
     },
     "execution_count": 61,
     "metadata": {},
     "output_type": "execute_result"
    }
   ],
   "source": [
    "df_test=pd.read_excel('Test_set.xlsx')\n",
    "df_test.head()"
   ]
  },
  {
   "cell_type": "code",
   "execution_count": 62,
   "metadata": {},
   "outputs": [
    {
     "data": {
      "text/plain": [
       "Index(['Airline', 'Date_of_Journey', 'Source', 'Destination', 'Route',\n",
       "       'Dep_Time', 'Arrival_Time', 'Duration', 'Total_Stops',\n",
       "       'Additional_Info'],\n",
       "      dtype='object')"
      ]
     },
     "execution_count": 62,
     "metadata": {},
     "output_type": "execute_result"
    }
   ],
   "source": [
    "df_test.columns"
   ]
  },
  {
   "cell_type": "code",
   "execution_count": 63,
   "metadata": {},
   "outputs": [
    {
     "name": "stdout",
     "output_type": "stream",
     "text": [
      "<class 'pandas.core.frame.DataFrame'>\n",
      "RangeIndex: 2671 entries, 0 to 2670\n",
      "Data columns (total 10 columns):\n",
      "Airline            2671 non-null object\n",
      "Date_of_Journey    2671 non-null object\n",
      "Source             2671 non-null object\n",
      "Destination        2671 non-null object\n",
      "Route              2671 non-null object\n",
      "Dep_Time           2671 non-null object\n",
      "Arrival_Time       2671 non-null object\n",
      "Duration           2671 non-null object\n",
      "Total_Stops        2671 non-null object\n",
      "Additional_Info    2671 non-null object\n",
      "dtypes: object(10)\n",
      "memory usage: 208.8+ KB\n"
     ]
    }
   ],
   "source": [
    "df_test.info()"
   ]
  },
  {
   "cell_type": "code",
   "execution_count": 64,
   "metadata": {},
   "outputs": [
    {
     "data": {
      "text/plain": [
       "Delhi       1145\n",
       "Kolkata      710\n",
       "Banglore     555\n",
       "Mumbai       186\n",
       "Chennai       75\n",
       "Name: Source, dtype: int64"
      ]
     },
     "execution_count": 64,
     "metadata": {},
     "output_type": "execute_result"
    }
   ],
   "source": [
    "df_test.Source.value_counts()"
   ]
  },
  {
   "cell_type": "code",
   "execution_count": 65,
   "metadata": {},
   "outputs": [
    {
     "data": {
      "text/plain": [
       "Cochin       1145\n",
       "Banglore      710\n",
       "Delhi         317\n",
       "New Delhi     238\n",
       "Hyderabad     186\n",
       "Kolkata        75\n",
       "Name: Destination, dtype: int64"
      ]
     },
     "execution_count": 65,
     "metadata": {},
     "output_type": "execute_result"
    }
   ],
   "source": [
    "df_test.Destination.value_counts()"
   ]
  },
  {
   "cell_type": "code",
   "execution_count": 66,
   "metadata": {},
   "outputs": [
    {
     "data": {
      "text/plain": [
       "1 stop      1431\n",
       "non-stop     849\n",
       "2 stops      379\n",
       "3 stops       11\n",
       "4 stops        1\n",
       "Name: Total_Stops, dtype: int64"
      ]
     },
     "execution_count": 66,
     "metadata": {},
     "output_type": "execute_result"
    }
   ],
   "source": [
    "df_test.Total_Stops.value_counts()"
   ]
  },
  {
   "cell_type": "code",
   "execution_count": 67,
   "metadata": {},
   "outputs": [
    {
     "data": {
      "text/plain": [
       "No info                         2148\n",
       "In-flight meal not included      444\n",
       "No check-in baggage included      76\n",
       "Business class                     1\n",
       "1 Long layover                     1\n",
       "Change airports                    1\n",
       "Name: Additional_Info, dtype: int64"
      ]
     },
     "execution_count": 67,
     "metadata": {},
     "output_type": "execute_result"
    }
   ],
   "source": [
    "df_test.Additional_Info.value_counts()"
   ]
  },
  {
   "cell_type": "code",
   "execution_count": 68,
   "metadata": {},
   "outputs": [
    {
     "data": {
      "text/html": [
       "<div>\n",
       "<style scoped>\n",
       "    .dataframe tbody tr th:only-of-type {\n",
       "        vertical-align: middle;\n",
       "    }\n",
       "\n",
       "    .dataframe tbody tr th {\n",
       "        vertical-align: top;\n",
       "    }\n",
       "\n",
       "    .dataframe thead th {\n",
       "        text-align: right;\n",
       "    }\n",
       "</style>\n",
       "<table border=\"1\" class=\"dataframe\">\n",
       "  <thead>\n",
       "    <tr style=\"text-align: right;\">\n",
       "      <th></th>\n",
       "      <th>Air India</th>\n",
       "      <th>GoAir</th>\n",
       "      <th>IndiGo</th>\n",
       "      <th>Jet Airways</th>\n",
       "      <th>Jet Airways Business</th>\n",
       "      <th>Multiple carriers</th>\n",
       "      <th>Multiple carriers Premium economy</th>\n",
       "      <th>SpiceJet</th>\n",
       "      <th>Vistara</th>\n",
       "      <th>Vistara Premium economy</th>\n",
       "    </tr>\n",
       "  </thead>\n",
       "  <tbody>\n",
       "    <tr>\n",
       "      <th>0</th>\n",
       "      <td>0</td>\n",
       "      <td>0</td>\n",
       "      <td>0</td>\n",
       "      <td>1</td>\n",
       "      <td>0</td>\n",
       "      <td>0</td>\n",
       "      <td>0</td>\n",
       "      <td>0</td>\n",
       "      <td>0</td>\n",
       "      <td>0</td>\n",
       "    </tr>\n",
       "    <tr>\n",
       "      <th>1</th>\n",
       "      <td>0</td>\n",
       "      <td>0</td>\n",
       "      <td>1</td>\n",
       "      <td>0</td>\n",
       "      <td>0</td>\n",
       "      <td>0</td>\n",
       "      <td>0</td>\n",
       "      <td>0</td>\n",
       "      <td>0</td>\n",
       "      <td>0</td>\n",
       "    </tr>\n",
       "    <tr>\n",
       "      <th>2</th>\n",
       "      <td>0</td>\n",
       "      <td>0</td>\n",
       "      <td>0</td>\n",
       "      <td>1</td>\n",
       "      <td>0</td>\n",
       "      <td>0</td>\n",
       "      <td>0</td>\n",
       "      <td>0</td>\n",
       "      <td>0</td>\n",
       "      <td>0</td>\n",
       "    </tr>\n",
       "    <tr>\n",
       "      <th>3</th>\n",
       "      <td>0</td>\n",
       "      <td>0</td>\n",
       "      <td>0</td>\n",
       "      <td>0</td>\n",
       "      <td>0</td>\n",
       "      <td>1</td>\n",
       "      <td>0</td>\n",
       "      <td>0</td>\n",
       "      <td>0</td>\n",
       "      <td>0</td>\n",
       "    </tr>\n",
       "    <tr>\n",
       "      <th>4</th>\n",
       "      <td>0</td>\n",
       "      <td>0</td>\n",
       "      <td>0</td>\n",
       "      <td>0</td>\n",
       "      <td>0</td>\n",
       "      <td>0</td>\n",
       "      <td>0</td>\n",
       "      <td>0</td>\n",
       "      <td>0</td>\n",
       "      <td>0</td>\n",
       "    </tr>\n",
       "  </tbody>\n",
       "</table>\n",
       "</div>"
      ],
      "text/plain": [
       "   Air India  GoAir  IndiGo  Jet Airways  Jet Airways Business  \\\n",
       "0          0      0       0            1                     0   \n",
       "1          0      0       1            0                     0   \n",
       "2          0      0       0            1                     0   \n",
       "3          0      0       0            0                     0   \n",
       "4          0      0       0            0                     0   \n",
       "\n",
       "   Multiple carriers  Multiple carriers Premium economy  SpiceJet  Vistara  \\\n",
       "0                  0                                  0         0        0   \n",
       "1                  0                                  0         0        0   \n",
       "2                  0                                  0         0        0   \n",
       "3                  1                                  0         0        0   \n",
       "4                  0                                  0         0        0   \n",
       "\n",
       "   Vistara Premium economy  \n",
       "0                        0  \n",
       "1                        0  \n",
       "2                        0  \n",
       "3                        0  \n",
       "4                        0  "
      ]
     },
     "execution_count": 68,
     "metadata": {},
     "output_type": "execute_result"
    }
   ],
   "source": [
    "#One hot encoding  converting categorical columns to numerical columns\n",
    "\n",
    "Airline_test_dummy=pd.get_dummies(df_test['Airline'],drop_first=True) # one hot encoding\n",
    "Airline_test_dummy.head()"
   ]
  },
  {
   "cell_type": "code",
   "execution_count": 69,
   "metadata": {},
   "outputs": [],
   "source": [
    "# one hot encoding\n",
    "Source_test_dummy=pd.get_dummies(df_test.Source,drop_first=True)\n",
    "Desination_test_dummy=pd.get_dummies(df_test.Destination,drop_first=True)\n",
    "Additional_Info_test_dummy=pd.get_dummies(df_test.Additional_Info,drop_first=True)\n",
    "Total_Stops_test_dummy=pd.get_dummies(df_test.Total_Stops,drop_first=True)"
   ]
  },
  {
   "cell_type": "code",
   "execution_count": 70,
   "metadata": {},
   "outputs": [],
   "source": [
    "df_test=pd.concat([Airline_test_dummy,Additional_Info_test_dummy,Source_test_dummy,Desination_test_dummy,Total_Stops_test_dummy,df_test],axis=1)"
   ]
  },
  {
   "cell_type": "code",
   "execution_count": 71,
   "metadata": {},
   "outputs": [],
   "source": [
    "df_test['Date']=df_test.Date_of_Journey.apply(lambda x: x.split('/')).apply(lambda x: x[0])\n",
    "df_test['Date']=df_test.Date.astype('int64')"
   ]
  },
  {
   "cell_type": "code",
   "execution_count": 72,
   "metadata": {},
   "outputs": [],
   "source": [
    "df_test['Month']=df_test.Date_of_Journey.apply(lambda x: x.split('/')).apply(lambda x: x[1])\n",
    "df_test['Month']=df_test.Month.astype('int64')"
   ]
  },
  {
   "cell_type": "code",
   "execution_count": 73,
   "metadata": {},
   "outputs": [],
   "source": [
    "df_test['Dep_Hour']=df_test.Dep_Time.apply(lambda x: x.split(':')).apply(lambda x: x[0])\n",
    "df_test['Dep_Hour']=df_test['Dep_Hour'].astype('int64')"
   ]
  },
  {
   "cell_type": "code",
   "execution_count": 74,
   "metadata": {},
   "outputs": [],
   "source": [
    "df_test['Dep_Min']=df_test.Dep_Time.apply(lambda x: x.split(':')).apply(lambda x: x[0])\n",
    "df_test['Dep_Min']=df_test['Dep_Min'].astype('int64')"
   ]
  },
  {
   "cell_type": "code",
   "execution_count": 75,
   "metadata": {},
   "outputs": [],
   "source": [
    "lst_test_dur=list(df_test['Duration'])\n",
    "lst_test_hour=[]\n",
    "lst_test_min=[]"
   ]
  },
  {
   "cell_type": "code",
   "execution_count": 76,
   "metadata": {},
   "outputs": [],
   "source": [
    "for i in range(len(lst_test_dur)):\n",
    "    if len(lst_test_dur[i].split())!=2:\n",
    "        if 'h' in lst_test_dur[i]:\n",
    "            lst_test_dur[i]=lst_test_dur[i].strip()+' 0m'\n",
    "        else:\n",
    "            lst_test_dur[i]='0h '+lst_test_dur[i]"
   ]
  },
  {
   "cell_type": "code",
   "execution_count": 77,
   "metadata": {},
   "outputs": [],
   "source": [
    "lst2test_=[]\n",
    "lst3test_=[]\n",
    "lst1test_=lst_test_dur\n",
    "for i in range(len(lst1test_)):\n",
    "    lst1test_[i]=lst1test_[i].split(' ')\n",
    "    lst1test_[i][0]=lst1test_[i][0]\n",
    "    lst1test_[i][0]=lst1test_[i][0].split('h')\n",
    "    lst1test_[i][1]=lst1test_[i][1].split('m')\n",
    "    lst2test_.append(int(lst1test_[i][0][0]))\n",
    "    lst3test_.append(int(lst1test_[i][1][0]))\n",
    "\n",
    "df_test['Duration_hour']=lst2test_\n",
    "df_test['Duration_min']=lst3test_"
   ]
  },
  {
   "cell_type": "code",
   "execution_count": 78,
   "metadata": {},
   "outputs": [],
   "source": [
    "df_test['Arrival_hour']=df_test.Arrival_Time.apply(lambda x: x.split(':')).apply(lambda x: x[0])\n",
    "df_test['Arrival_hour']=df_test['Arrival_hour'].astype('int64')"
   ]
  },
  {
   "cell_type": "code",
   "execution_count": 79,
   "metadata": {},
   "outputs": [],
   "source": [
    "df_test['Arrival_min']=df_test.Arrival_Time.apply(lambda x: x.split(':')).apply(lambda x: x[1])\n",
    "df_test['Arrival_min']=df_test.Arrival_min.apply(lambda x: x.split(' ')).apply(lambda x: x[0]).astype('int64')#=df['Arrival_min'].astype('int64')\n"
   ]
  },
  {
   "cell_type": "code",
   "execution_count": 80,
   "metadata": {},
   "outputs": [
    {
     "data": {
      "text/plain": [
       "Index(['Air India', 'GoAir', 'IndiGo', 'Jet Airways', 'Jet Airways Business',\n",
       "       'Multiple carriers', 'Multiple carriers Premium economy', 'SpiceJet',\n",
       "       'Vistara', 'Vistara Premium economy', 'Business class',\n",
       "       'Change airports', 'In-flight meal not included',\n",
       "       'No check-in baggage included', 'No info', 'Chennai', 'Delhi',\n",
       "       'Kolkata', 'Mumbai', 'Cochin', 'Delhi', 'Hyderabad', 'Kolkata',\n",
       "       'New Delhi', '2 stops', '3 stops', '4 stops', 'non-stop', 'Airline',\n",
       "       'Date_of_Journey', 'Source', 'Destination', 'Route', 'Dep_Time',\n",
       "       'Arrival_Time', 'Duration', 'Total_Stops', 'Additional_Info', 'Date',\n",
       "       'Month', 'Dep_Hour', 'Dep_Min', 'Duration_hour', 'Duration_min',\n",
       "       'Arrival_hour', 'Arrival_min'],\n",
       "      dtype='object')"
      ]
     },
     "execution_count": 80,
     "metadata": {},
     "output_type": "execute_result"
    }
   ],
   "source": [
    "df_test.columns"
   ]
  },
  {
   "cell_type": "code",
   "execution_count": 81,
   "metadata": {},
   "outputs": [],
   "source": [
    "df_test=df_test.drop(['Airline','Date_of_Journey', 'Source', 'Destination', 'Route','Duration','Total_Stops','Arrival_Time','Additional_Info'],axis=1)"
   ]
  },
  {
   "cell_type": "code",
   "execution_count": 82,
   "metadata": {},
   "outputs": [
    {
     "data": {
      "text/html": [
       "<div>\n",
       "<style scoped>\n",
       "    .dataframe tbody tr th:only-of-type {\n",
       "        vertical-align: middle;\n",
       "    }\n",
       "\n",
       "    .dataframe tbody tr th {\n",
       "        vertical-align: top;\n",
       "    }\n",
       "\n",
       "    .dataframe thead th {\n",
       "        text-align: right;\n",
       "    }\n",
       "</style>\n",
       "<table border=\"1\" class=\"dataframe\">\n",
       "  <thead>\n",
       "    <tr style=\"text-align: right;\">\n",
       "      <th></th>\n",
       "      <th>Air India</th>\n",
       "      <th>GoAir</th>\n",
       "      <th>IndiGo</th>\n",
       "      <th>Jet Airways</th>\n",
       "      <th>Jet Airways Business</th>\n",
       "      <th>Multiple carriers</th>\n",
       "      <th>Multiple carriers Premium economy</th>\n",
       "      <th>SpiceJet</th>\n",
       "      <th>Vistara</th>\n",
       "      <th>Vistara Premium economy</th>\n",
       "      <th>...</th>\n",
       "      <th>non-stop</th>\n",
       "      <th>Dep_Time</th>\n",
       "      <th>Date</th>\n",
       "      <th>Month</th>\n",
       "      <th>Dep_Hour</th>\n",
       "      <th>Dep_Min</th>\n",
       "      <th>Duration_hour</th>\n",
       "      <th>Duration_min</th>\n",
       "      <th>Arrival_hour</th>\n",
       "      <th>Arrival_min</th>\n",
       "    </tr>\n",
       "  </thead>\n",
       "  <tbody>\n",
       "    <tr>\n",
       "      <th>0</th>\n",
       "      <td>0</td>\n",
       "      <td>0</td>\n",
       "      <td>0</td>\n",
       "      <td>1</td>\n",
       "      <td>0</td>\n",
       "      <td>0</td>\n",
       "      <td>0</td>\n",
       "      <td>0</td>\n",
       "      <td>0</td>\n",
       "      <td>0</td>\n",
       "      <td>...</td>\n",
       "      <td>0</td>\n",
       "      <td>17:30</td>\n",
       "      <td>6</td>\n",
       "      <td>6</td>\n",
       "      <td>17</td>\n",
       "      <td>17</td>\n",
       "      <td>10</td>\n",
       "      <td>55</td>\n",
       "      <td>4</td>\n",
       "      <td>25</td>\n",
       "    </tr>\n",
       "    <tr>\n",
       "      <th>1</th>\n",
       "      <td>0</td>\n",
       "      <td>0</td>\n",
       "      <td>1</td>\n",
       "      <td>0</td>\n",
       "      <td>0</td>\n",
       "      <td>0</td>\n",
       "      <td>0</td>\n",
       "      <td>0</td>\n",
       "      <td>0</td>\n",
       "      <td>0</td>\n",
       "      <td>...</td>\n",
       "      <td>0</td>\n",
       "      <td>06:20</td>\n",
       "      <td>12</td>\n",
       "      <td>5</td>\n",
       "      <td>6</td>\n",
       "      <td>6</td>\n",
       "      <td>4</td>\n",
       "      <td>0</td>\n",
       "      <td>10</td>\n",
       "      <td>20</td>\n",
       "    </tr>\n",
       "    <tr>\n",
       "      <th>2</th>\n",
       "      <td>0</td>\n",
       "      <td>0</td>\n",
       "      <td>0</td>\n",
       "      <td>1</td>\n",
       "      <td>0</td>\n",
       "      <td>0</td>\n",
       "      <td>0</td>\n",
       "      <td>0</td>\n",
       "      <td>0</td>\n",
       "      <td>0</td>\n",
       "      <td>...</td>\n",
       "      <td>0</td>\n",
       "      <td>19:15</td>\n",
       "      <td>21</td>\n",
       "      <td>5</td>\n",
       "      <td>19</td>\n",
       "      <td>19</td>\n",
       "      <td>23</td>\n",
       "      <td>45</td>\n",
       "      <td>19</td>\n",
       "      <td>0</td>\n",
       "    </tr>\n",
       "    <tr>\n",
       "      <th>3</th>\n",
       "      <td>0</td>\n",
       "      <td>0</td>\n",
       "      <td>0</td>\n",
       "      <td>0</td>\n",
       "      <td>0</td>\n",
       "      <td>1</td>\n",
       "      <td>0</td>\n",
       "      <td>0</td>\n",
       "      <td>0</td>\n",
       "      <td>0</td>\n",
       "      <td>...</td>\n",
       "      <td>0</td>\n",
       "      <td>08:00</td>\n",
       "      <td>21</td>\n",
       "      <td>5</td>\n",
       "      <td>8</td>\n",
       "      <td>8</td>\n",
       "      <td>13</td>\n",
       "      <td>0</td>\n",
       "      <td>21</td>\n",
       "      <td>0</td>\n",
       "    </tr>\n",
       "    <tr>\n",
       "      <th>4</th>\n",
       "      <td>0</td>\n",
       "      <td>0</td>\n",
       "      <td>0</td>\n",
       "      <td>0</td>\n",
       "      <td>0</td>\n",
       "      <td>0</td>\n",
       "      <td>0</td>\n",
       "      <td>0</td>\n",
       "      <td>0</td>\n",
       "      <td>0</td>\n",
       "      <td>...</td>\n",
       "      <td>1</td>\n",
       "      <td>23:55</td>\n",
       "      <td>24</td>\n",
       "      <td>6</td>\n",
       "      <td>23</td>\n",
       "      <td>23</td>\n",
       "      <td>2</td>\n",
       "      <td>50</td>\n",
       "      <td>2</td>\n",
       "      <td>45</td>\n",
       "    </tr>\n",
       "  </tbody>\n",
       "</table>\n",
       "<p>5 rows × 37 columns</p>\n",
       "</div>"
      ],
      "text/plain": [
       "   Air India  GoAir  IndiGo  Jet Airways  Jet Airways Business  \\\n",
       "0          0      0       0            1                     0   \n",
       "1          0      0       1            0                     0   \n",
       "2          0      0       0            1                     0   \n",
       "3          0      0       0            0                     0   \n",
       "4          0      0       0            0                     0   \n",
       "\n",
       "   Multiple carriers  Multiple carriers Premium economy  SpiceJet  Vistara  \\\n",
       "0                  0                                  0         0        0   \n",
       "1                  0                                  0         0        0   \n",
       "2                  0                                  0         0        0   \n",
       "3                  1                                  0         0        0   \n",
       "4                  0                                  0         0        0   \n",
       "\n",
       "   Vistara Premium economy  ...  non-stop  Dep_Time  Date  Month  Dep_Hour  \\\n",
       "0                        0  ...         0     17:30     6      6        17   \n",
       "1                        0  ...         0     06:20    12      5         6   \n",
       "2                        0  ...         0     19:15    21      5        19   \n",
       "3                        0  ...         0     08:00    21      5         8   \n",
       "4                        0  ...         1     23:55    24      6        23   \n",
       "\n",
       "   Dep_Min  Duration_hour  Duration_min  Arrival_hour  Arrival_min  \n",
       "0       17             10            55             4           25  \n",
       "1        6              4             0            10           20  \n",
       "2       19             23            45            19            0  \n",
       "3        8             13             0            21            0  \n",
       "4       23              2            50             2           45  \n",
       "\n",
       "[5 rows x 37 columns]"
      ]
     },
     "execution_count": 82,
     "metadata": {},
     "output_type": "execute_result"
    }
   ],
   "source": [
    "df_test.head()"
   ]
  },
  {
   "cell_type": "code",
   "execution_count": null,
   "metadata": {},
   "outputs": [],
   "source": []
  },
  {
   "cell_type": "code",
   "execution_count": 83,
   "metadata": {},
   "outputs": [],
   "source": [
    "X=df.drop(['Price'],axis=1)\n",
    "y=df['Price']"
   ]
  },
  {
   "cell_type": "code",
   "execution_count": 84,
   "metadata": {},
   "outputs": [
    {
     "data": {
      "text/plain": [
       "Index(['1 Short layover', '2 Long layover', 'Business class',\n",
       "       'Change airports', 'In-flight meal not included',\n",
       "       'No check-in baggage included', 'No info', 'Red-eye flight',\n",
       "       'Air India', 'GoAir', 'IndiGo', 'Jet Airways', 'Jet Airways Business',\n",
       "       'Multiple carriers', 'Multiple carriers Premium economy', 'SpiceJet',\n",
       "       'Trujet', 'Vistara', 'Vistara Premium economy', 'Chennai', 'Delhi',\n",
       "       'Kolkata', 'Mumbai', 'Hyderabad', 'Ka_Banglore', 'New Delhi',\n",
       "       'Wb_Kolkata', '2 stops', '3 stops', '4 stops', 'non-stop', 'Date',\n",
       "       'Month', 'Dep_Hour', 'Dep_Min', 'Duration_hour', 'Duration_min',\n",
       "       'Arrival_hour', 'Arrival_min'],\n",
       "      dtype='object')"
      ]
     },
     "execution_count": 84,
     "metadata": {},
     "output_type": "execute_result"
    }
   ],
   "source": [
    "X.columns"
   ]
  },
  {
   "cell_type": "code",
   "execution_count": 85,
   "metadata": {},
   "outputs": [
    {
     "data": {
      "text/plain": [
       "0     3897\n",
       "1     7662\n",
       "2    13882\n",
       "3     6218\n",
       "4    13302\n",
       "Name: Price, dtype: int64"
      ]
     },
     "execution_count": 85,
     "metadata": {},
     "output_type": "execute_result"
    }
   ],
   "source": [
    "y.head()"
   ]
  },
  {
   "cell_type": "code",
   "execution_count": 86,
   "metadata": {},
   "outputs": [
    {
     "data": {
      "text/plain": [
       "Index(['Air India', 'GoAir', 'IndiGo', 'Jet Airways', 'Jet Airways Business',\n",
       "       'Multiple carriers', 'Multiple carriers Premium economy', 'SpiceJet',\n",
       "       'Vistara', 'Vistara Premium economy', 'Business class',\n",
       "       'Change airports', 'In-flight meal not included',\n",
       "       'No check-in baggage included', 'No info', 'Chennai', 'Delhi',\n",
       "       'Kolkata', 'Mumbai', 'Cochin', 'Delhi', 'Hyderabad', 'Kolkata',\n",
       "       'New Delhi', '2 stops', '3 stops', '4 stops', 'non-stop', 'Dep_Time',\n",
       "       'Date', 'Month', 'Dep_Hour', 'Dep_Min', 'Duration_hour', 'Duration_min',\n",
       "       'Arrival_hour', 'Arrival_min'],\n",
       "      dtype='object')"
      ]
     },
     "execution_count": 86,
     "metadata": {},
     "output_type": "execute_result"
    }
   ],
   "source": [
    "df_test.columns"
   ]
  },
  {
   "cell_type": "markdown",
   "metadata": {},
   "source": [
    "### Splitting the dataset"
   ]
  },
  {
   "cell_type": "code",
   "execution_count": 87,
   "metadata": {},
   "outputs": [],
   "source": [
    "\n",
    "from sklearn.model_selection import train_test_split\n",
    "X_train,X_test,y_train,y_test=train_test_split(X,y,test_size=.2,random_state=42)\n"
   ]
  },
  {
   "cell_type": "code",
   "execution_count": 88,
   "metadata": {},
   "outputs": [],
   "source": [
    "from sklearn.linear_model import LinearRegression\n",
    "from sklearn.ensemble import RandomForestRegressor\n",
    "from sklearn.tree import DecisionTreeRegressor\n",
    "from sklearn.metrics import r2_score\n",
    "r2_scores=[]"
   ]
  },
  {
   "cell_type": "markdown",
   "metadata": {},
   "source": [
    "## Linear Regression"
   ]
  },
  {
   "cell_type": "code",
   "execution_count": 89,
   "metadata": {},
   "outputs": [
    {
     "data": {
      "text/plain": [
       "LinearRegression()"
      ]
     },
     "execution_count": 89,
     "metadata": {},
     "output_type": "execute_result"
    }
   ],
   "source": [
    "lin_reg=LinearRegression()\n",
    "lin_reg.fit(X_train,y_train)"
   ]
  },
  {
   "cell_type": "code",
   "execution_count": 90,
   "metadata": {},
   "outputs": [],
   "source": [
    "y_pred_lin_reg=lin_reg.predict(X_test)\n",
    "r2_scores.append(('LinearRegression',r2_score(y_test,y_pred_lin_reg)))"
   ]
  },
  {
   "cell_type": "code",
   "execution_count": 91,
   "metadata": {},
   "outputs": [
    {
     "data": {
      "image/png": "[encoded data removed]",
      "text/plain": [
       "<Figure size 432x288 with 1 Axes>"
      ]
     },
     "metadata": {
      "needs_background": "light"
     },
     "output_type": "display_data"
    }
   ],
   "source": [
    "plt.scatter(y_pred_lin_reg,y_test)\n",
    "plt.title('Linear regression')\n",
    "plt.plot([y_test.min(), y_test.max()], [y_test.min(), y_test.max()], color='black')\n",
    "plt.xlabel('test')\n",
    "plt.ylabel('predicted')\n",
    "plt.show()"
   ]
  },
  {
   "cell_type": "markdown",
   "metadata": {},
   "source": [
    "## Random Forest Regression"
   ]
  },
  {
   "cell_type": "code",
   "execution_count": 92,
   "metadata": {},
   "outputs": [],
   "source": [
    "rdf=RandomForestRegressor()\n"
   ]
  },
  {
   "cell_type": "code",
   "execution_count": 93,
   "metadata": {},
   "outputs": [
    {
     "data": {
      "text/plain": [
       "RandomForestRegressor()"
      ]
     },
     "execution_count": 93,
     "metadata": {},
     "output_type": "execute_result"
    }
   ],
   "source": [
    "rdf.fit(X_train,y_train)"
   ]
  },
  {
   "cell_type": "code",
   "execution_count": 94,
   "metadata": {},
   "outputs": [
    {
     "name": "stdout",
     "output_type": "stream",
     "text": [
      "0.8718478111277497\n"
     ]
    }
   ],
   "source": [
    "y_pred_rdf=rdf.predict(X_test)\n",
    "print(r2_score(y_test,y_pred_rdf))\n",
    "r2_scores.append(('RandomForestRegressor',r2_score(y_test,y_pred_rdf)))"
   ]
  },
  {
   "cell_type": "markdown",
   "metadata": {},
   "source": [
    "### Feature Imporatance Random Forest Regression"
   ]
  },
  {
   "cell_type": "code",
   "execution_count": 95,
   "metadata": {},
   "outputs": [
    {
     "data": {
      "image/png": "[encoded data removed]",
      "text/plain": [
       "<Figure size 1296x720 with 1 Axes>"
      ]
     },
     "metadata": {
      "needs_background": "light"
     },
     "output_type": "display_data"
    }
   ],
   "source": [
    "pd.Series(rdf.feature_importances_,index=X.columns).sort_values(ascending=False).plot(kind='bar',figsize=(18,10));"
   ]
  },
  {
   "cell_type": "markdown",
   "metadata": {},
   "source": [
    "## Extra Tree Regression"
   ]
  },
  {
   "cell_type": "code",
   "execution_count": 96,
   "metadata": {},
   "outputs": [
    {
     "name": "stdout",
     "output_type": "stream",
     "text": [
      "0.9133293485801457\n"
     ]
    }
   ],
   "source": [
    "#Preparing Extra Tree Regression\n",
    "from sklearn.ensemble import  ExtraTreesRegressor\n",
    "extr=ExtraTreesRegressor()\n",
    "extr.fit(X_train,y_train)\n",
    "y_pred_extr=extr.predict(X_test)\n",
    "\n",
    "\n",
    "from sklearn.metrics import r2_score\n",
    "print(r2_score(y_test,y_pred_extr))\n",
    "r2_scores.append(('ExtraTreesRegressor',r2_score(y_test,y_pred_extr)))\n"
   ]
  },
  {
   "cell_type": "code",
   "execution_count": 97,
   "metadata": {},
   "outputs": [
    {
     "data": {
      "image/png": "[encoded data removed]",
      "text/plain": [
       "<Figure size 432x288 with 1 Axes>"
      ]
     },
     "metadata": {
      "needs_background": "light"
     },
     "output_type": "display_data"
    }
   ],
   "source": [
    "plt.scatter(y_pred_extr,y_test)\n",
    "plt.title('Extra Tree Regression')\n",
    "plt.plot([y_test.min(), y_test.max()], [y_test.min(), y_test.max()], color='black')\n",
    "plt.xlabel('test')\n",
    "plt.ylabel('predicted')\n",
    "plt.show()"
   ]
  },
  {
   "cell_type": "markdown",
   "metadata": {},
   "source": [
    "### Feature Imporatance Extra Tree Regression"
   ]
  },
  {
   "cell_type": "code",
   "execution_count": 98,
   "metadata": {},
   "outputs": [
    {
     "data": {
      "image/png": "[encoded data removed]",
      "text/plain": [
       "<Figure size 1296x720 with 1 Axes>"
      ]
     },
     "metadata": {
      "needs_background": "light"
     },
     "output_type": "display_data"
    }
   ],
   "source": [
    "pd.Series(extr.feature_importances_,index=X.columns).sort_values(ascending=False).plot(kind='bar',figsize=(18,10));"
   ]
  },
  {
   "cell_type": "markdown",
   "metadata": {},
   "source": [
    "## CatBoost Regression"
   ]
  },
  {
   "cell_type": "code",
   "execution_count": 99,
   "metadata": {},
   "outputs": [],
   "source": [
    "#!pip install catboost"
   ]
  },
  {
   "cell_type": "code",
   "execution_count": 100,
   "metadata": {},
   "outputs": [
    {
     "name": "stdout",
     "output_type": "stream",
     "text": [
      "Learning rate set to 0.05718\n",
      "0:\tlearn: 4449.5702375\ttotal: 149ms\tremaining: 2m 29s\n",
      "1:\tlearn: 4285.5820498\ttotal: 158ms\tremaining: 1m 19s\n",
      "2:\tlearn: 4143.4676831\ttotal: 164ms\tremaining: 54.4s\n",
      "3:\tlearn: 4008.8694516\ttotal: 168ms\tremaining: 41.8s\n",
      "4:\tlearn: 3894.2682093\ttotal: 172ms\tremaining: 34.2s\n",
      "5:\tlearn: 3778.2537400\ttotal: 177ms\tremaining: 29.3s\n",
      "6:\tlearn: 3672.7048917\ttotal: 179ms\tremaining: 25.4s\n",
      "7:\tlearn: 3573.2518414\ttotal: 182ms\tremaining: 22.6s\n",
      "8:\tlearn: 3477.8522665\ttotal: 185ms\tremaining: 20.4s\n",
      "9:\tlearn: 3387.8309722\ttotal: 188ms\tremaining: 18.6s\n",
      "10:\tlearn: 3300.5746540\ttotal: 191ms\tremaining: 17.1s\n",
      "11:\tlearn: 3227.3822787\ttotal: 194ms\tremaining: 16s\n",
      "12:\tlearn: 3158.6996142\ttotal: 196ms\tremaining: 14.9s\n",
      "13:\tlearn: 3091.5624061\ttotal: 199ms\tremaining: 14s\n",
      "14:\tlearn: 3033.5227337\ttotal: 202ms\tremaining: 13.3s\n",
      "15:\tlearn: 2978.1366894\ttotal: 205ms\tremaining: 12.6s\n",
      "16:\tlearn: 2937.0656263\ttotal: 208ms\tremaining: 12s\n",
      "17:\tlearn: 2891.4655682\ttotal: 210ms\tremaining: 11.4s\n",
      "18:\tlearn: 2841.7506842\ttotal: 212ms\tremaining: 11s\n",
      "19:\tlearn: 2794.3111297\ttotal: 215ms\tremaining: 10.5s\n",
      "20:\tlearn: 2760.2267689\ttotal: 218ms\tremaining: 10.1s\n",
      "21:\tlearn: 2716.2485300\ttotal: 220ms\tremaining: 9.77s\n",
      "22:\tlearn: 2680.7512729\ttotal: 223ms\tremaining: 9.48s\n",
      "23:\tlearn: 2646.8567143\ttotal: 226ms\tremaining: 9.19s\n",
      "24:\tlearn: 2617.1900286\ttotal: 229ms\tremaining: 8.91s\n",
      "25:\tlearn: 2588.1654783\ttotal: 231ms\tremaining: 8.65s\n",
      "26:\tlearn: 2556.7484634\ttotal: 234ms\tremaining: 8.42s\n",
      "27:\tlearn: 2530.1697306\ttotal: 237ms\tremaining: 8.22s\n",
      "28:\tlearn: 2500.0417060\ttotal: 239ms\tremaining: 8.01s\n",
      "29:\tlearn: 2472.9935243\ttotal: 241ms\tremaining: 7.8s\n",
      "30:\tlearn: 2450.2275082\ttotal: 244ms\tremaining: 7.63s\n",
      "31:\tlearn: 2436.9534928\ttotal: 248ms\tremaining: 7.49s\n",
      "32:\tlearn: 2418.1126882\ttotal: 250ms\tremaining: 7.33s\n",
      "33:\tlearn: 2397.8288731\ttotal: 252ms\tremaining: 7.17s\n",
      "34:\tlearn: 2380.4918389\ttotal: 255ms\tremaining: 7.04s\n",
      "35:\tlearn: 2364.2077880\ttotal: 258ms\tremaining: 6.91s\n",
      "36:\tlearn: 2352.3259270\ttotal: 260ms\tremaining: 6.78s\n",
      "37:\tlearn: 2334.9238175\ttotal: 263ms\tremaining: 6.65s\n",
      "38:\tlearn: 2325.7480035\ttotal: 265ms\tremaining: 6.53s\n",
      "39:\tlearn: 2312.5967382\ttotal: 268ms\tremaining: 6.44s\n",
      "40:\tlearn: 2297.5604594\ttotal: 271ms\tremaining: 6.34s\n",
      "41:\tlearn: 2290.7421721\ttotal: 273ms\tremaining: 6.23s\n",
      "42:\tlearn: 2276.7909884\ttotal: 275ms\tremaining: 6.13s\n",
      "43:\tlearn: 2269.0306767\ttotal: 279ms\tremaining: 6.07s\n",
      "44:\tlearn: 2254.1926728\ttotal: 282ms\tremaining: 5.99s\n",
      "45:\tlearn: 2239.4356963\ttotal: 285ms\tremaining: 5.91s\n",
      "46:\tlearn: 2229.7001345\ttotal: 287ms\tremaining: 5.82s\n",
      "47:\tlearn: 2220.3183527\ttotal: 290ms\tremaining: 5.75s\n",
      "48:\tlearn: 2213.5984847\ttotal: 293ms\tremaining: 5.68s\n",
      "49:\tlearn: 2206.4840718\ttotal: 295ms\tremaining: 5.61s\n",
      "50:\tlearn: 2193.3350455\ttotal: 303ms\tremaining: 5.65s\n",
      "51:\tlearn: 2184.3205602\ttotal: 306ms\tremaining: 5.58s\n",
      "52:\tlearn: 2180.1898161\ttotal: 309ms\tremaining: 5.53s\n",
      "53:\tlearn: 2177.0738823\ttotal: 313ms\tremaining: 5.47s\n",
      "54:\tlearn: 2170.7140192\ttotal: 315ms\tremaining: 5.41s\n",
      "55:\tlearn: 2165.7469378\ttotal: 318ms\tremaining: 5.35s\n",
      "56:\tlearn: 2153.1028426\ttotal: 321ms\tremaining: 5.31s\n",
      "57:\tlearn: 2145.3482208\ttotal: 325ms\tremaining: 5.28s\n",
      "58:\tlearn: 2140.1191583\ttotal: 328ms\tremaining: 5.22s\n",
      "59:\tlearn: 2133.7900628\ttotal: 330ms\tremaining: 5.17s\n",
      "60:\tlearn: 2123.6081622\ttotal: 335ms\tremaining: 5.15s\n",
      "61:\tlearn: 2117.2270419\ttotal: 339ms\tremaining: 5.13s\n",
      "62:\tlearn: 2109.2646175\ttotal: 341ms\tremaining: 5.07s\n",
      "63:\tlearn: 2104.1028309\ttotal: 344ms\tremaining: 5.04s\n",
      "64:\tlearn: 2097.1816416\ttotal: 352ms\tremaining: 5.06s\n",
      "65:\tlearn: 2089.9277807\ttotal: 355ms\tremaining: 5.03s\n",
      "66:\tlearn: 2086.9767293\ttotal: 358ms\tremaining: 4.98s\n",
      "67:\tlearn: 2080.2604005\ttotal: 361ms\tremaining: 4.95s\n",
      "68:\tlearn: 2076.9941072\ttotal: 364ms\tremaining: 4.91s\n",
      "69:\tlearn: 2071.8671664\ttotal: 367ms\tremaining: 4.88s\n",
      "70:\tlearn: 2068.6903590\ttotal: 370ms\tremaining: 4.84s\n",
      "71:\tlearn: 2063.6376762\ttotal: 374ms\tremaining: 4.82s\n",
      "72:\tlearn: 2056.4962865\ttotal: 377ms\tremaining: 4.78s\n",
      "73:\tlearn: 2051.6711174\ttotal: 379ms\tremaining: 4.75s\n",
      "74:\tlearn: 2049.9342587\ttotal: 382ms\tremaining: 4.71s\n",
      "75:\tlearn: 2047.5544835\ttotal: 385ms\tremaining: 4.69s\n",
      "76:\tlearn: 2043.8910026\ttotal: 388ms\tremaining: 4.65s\n",
      "77:\tlearn: 2041.0826640\ttotal: 391ms\tremaining: 4.62s\n",
      "78:\tlearn: 2038.6400691\ttotal: 394ms\tremaining: 4.6s\n",
      "79:\tlearn: 2034.7242956\ttotal: 397ms\tremaining: 4.56s\n",
      "80:\tlearn: 2026.2475405\ttotal: 399ms\tremaining: 4.53s\n",
      "81:\tlearn: 2021.0322366\ttotal: 402ms\tremaining: 4.5s\n",
      "82:\tlearn: 2017.6093372\ttotal: 405ms\tremaining: 4.47s\n",
      "83:\tlearn: 2013.7744757\ttotal: 407ms\tremaining: 4.44s\n",
      "84:\tlearn: 2005.8633267\ttotal: 410ms\tremaining: 4.41s\n",
      "85:\tlearn: 2000.4703945\ttotal: 412ms\tremaining: 4.38s\n",
      "86:\tlearn: 1997.3779741\ttotal: 415ms\tremaining: 4.35s\n",
      "87:\tlearn: 1997.0557083\ttotal: 420ms\tremaining: 4.36s\n",
      "88:\tlearn: 1992.1322659\ttotal: 424ms\tremaining: 4.34s\n",
      "89:\tlearn: 1988.0271778\ttotal: 426ms\tremaining: 4.31s\n",
      "90:\tlearn: 1985.9568987\ttotal: 428ms\tremaining: 4.28s\n",
      "91:\tlearn: 1979.1282289\ttotal: 437ms\tremaining: 4.31s\n",
      "92:\tlearn: 1974.9479299\ttotal: 440ms\tremaining: 4.29s\n",
      "93:\tlearn: 1972.0111864\ttotal: 443ms\tremaining: 4.27s\n",
      "94:\tlearn: 1970.0617078\ttotal: 446ms\tremaining: 4.24s\n",
      "95:\tlearn: 1969.5759186\ttotal: 448ms\tremaining: 4.22s\n",
      "96:\tlearn: 1962.5542298\ttotal: 451ms\tremaining: 4.2s\n",
      "97:\tlearn: 1961.2133949\ttotal: 454ms\tremaining: 4.17s\n",
      "98:\tlearn: 1955.3776348\ttotal: 456ms\tremaining: 4.15s\n",
      "99:\tlearn: 1952.2334229\ttotal: 458ms\tremaining: 4.13s\n",
      "100:\tlearn: 1948.0140800\ttotal: 461ms\tremaining: 4.1s\n",
      "101:\tlearn: 1946.3500596\ttotal: 464ms\tremaining: 4.08s\n",
      "102:\tlearn: 1943.4919059\ttotal: 467ms\tremaining: 4.07s\n",
      "103:\tlearn: 1942.2074584\ttotal: 469ms\tremaining: 4.04s\n",
      "104:\tlearn: 1938.4816568\ttotal: 472ms\tremaining: 4.02s\n",
      "105:\tlearn: 1936.6184657\ttotal: 476ms\tremaining: 4.02s\n",
      "106:\tlearn: 1932.6353777\ttotal: 479ms\tremaining: 4s\n",
      "107:\tlearn: 1929.4777676\ttotal: 482ms\tremaining: 3.98s\n",
      "108:\tlearn: 1927.9552950\ttotal: 484ms\tremaining: 3.96s\n",
      "109:\tlearn: 1924.8173313\ttotal: 488ms\tremaining: 3.95s\n",
      "110:\tlearn: 1920.8270373\ttotal: 491ms\tremaining: 3.93s\n",
      "111:\tlearn: 1918.0766392\ttotal: 494ms\tremaining: 3.91s\n",
      "112:\tlearn: 1912.7062733\ttotal: 496ms\tremaining: 3.89s\n",
      "113:\tlearn: 1910.0901127\ttotal: 500ms\tremaining: 3.89s\n",
      "114:\tlearn: 1909.2725731\ttotal: 502ms\tremaining: 3.87s\n",
      "115:\tlearn: 1902.6738979\ttotal: 504ms\tremaining: 3.84s\n",
      "116:\tlearn: 1901.5514866\ttotal: 508ms\tremaining: 3.83s\n",
      "117:\tlearn: 1897.9855884\ttotal: 512ms\tremaining: 3.83s\n",
      "118:\tlearn: 1894.4940059\ttotal: 514ms\tremaining: 3.81s\n",
      "119:\tlearn: 1890.5090456\ttotal: 516ms\tremaining: 3.79s\n",
      "120:\tlearn: 1884.7057958\ttotal: 519ms\tremaining: 3.77s\n",
      "121:\tlearn: 1883.6582255\ttotal: 524ms\tremaining: 3.77s\n",
      "122:\tlearn: 1881.7513347\ttotal: 526ms\tremaining: 3.75s\n",
      "123:\tlearn: 1879.9663959\ttotal: 528ms\tremaining: 3.73s\n",
      "124:\tlearn: 1877.1268306\ttotal: 531ms\tremaining: 3.72s\n",
      "125:\tlearn: 1873.1741782\ttotal: 535ms\tremaining: 3.71s\n",
      "126:\tlearn: 1870.2053003\ttotal: 538ms\tremaining: 3.7s\n",
      "127:\tlearn: 1867.5035386\ttotal: 540ms\tremaining: 3.68s\n",
      "128:\tlearn: 1866.7365103\ttotal: 543ms\tremaining: 3.66s\n",
      "129:\tlearn: 1865.6817341\ttotal: 545ms\tremaining: 3.65s\n",
      "130:\tlearn: 1862.6265494\ttotal: 548ms\tremaining: 3.63s\n",
      "131:\tlearn: 1861.2077903\ttotal: 551ms\tremaining: 3.62s\n",
      "132:\tlearn: 1859.2502090\ttotal: 553ms\tremaining: 3.6s\n",
      "133:\tlearn: 1854.6663820\ttotal: 558ms\tremaining: 3.6s\n",
      "134:\tlearn: 1853.5656397\ttotal: 560ms\tremaining: 3.59s\n",
      "135:\tlearn: 1852.2253993\ttotal: 562ms\tremaining: 3.57s\n",
      "136:\tlearn: 1848.8086732\ttotal: 564ms\tremaining: 3.55s\n",
      "137:\tlearn: 1848.0069064\ttotal: 567ms\tremaining: 3.54s\n",
      "138:\tlearn: 1845.4582620\ttotal: 569ms\tremaining: 3.52s\n",
      "139:\tlearn: 1842.9215675\ttotal: 571ms\tremaining: 3.51s\n",
      "140:\tlearn: 1840.1616042\ttotal: 573ms\tremaining: 3.49s\n",
      "141:\tlearn: 1836.5183346\ttotal: 576ms\tremaining: 3.48s\n",
      "142:\tlearn: 1836.1371016\ttotal: 579ms\tremaining: 3.47s\n",
      "143:\tlearn: 1835.5175095\ttotal: 581ms\tremaining: 3.45s\n",
      "144:\tlearn: 1834.4347103\ttotal: 583ms\tremaining: 3.44s\n",
      "145:\tlearn: 1832.0386443\ttotal: 585ms\tremaining: 3.42s\n",
      "146:\tlearn: 1830.9573493\ttotal: 587ms\tremaining: 3.41s\n",
      "147:\tlearn: 1826.8795993\ttotal: 590ms\tremaining: 3.4s\n",
      "148:\tlearn: 1822.8043702\ttotal: 592ms\tremaining: 3.38s\n",
      "149:\tlearn: 1820.3886619\ttotal: 595ms\tremaining: 3.37s\n",
      "150:\tlearn: 1819.2024528\ttotal: 597ms\tremaining: 3.35s\n"
     ]
    },
    {
     "name": "stdout",
     "output_type": "stream",
     "text": [
      "151:\tlearn: 1815.0871282\ttotal: 599ms\tremaining: 3.34s\n",
      "152:\tlearn: 1812.2380115\ttotal: 602ms\tremaining: 3.33s\n",
      "153:\tlearn: 1812.0044931\ttotal: 604ms\tremaining: 3.32s\n",
      "154:\tlearn: 1810.7901729\ttotal: 606ms\tremaining: 3.3s\n",
      "155:\tlearn: 1808.5708347\ttotal: 608ms\tremaining: 3.29s\n",
      "156:\tlearn: 1805.1890487\ttotal: 611ms\tremaining: 3.28s\n",
      "157:\tlearn: 1804.9254255\ttotal: 613ms\tremaining: 3.26s\n",
      "158:\tlearn: 1803.0106363\ttotal: 615ms\tremaining: 3.25s\n",
      "159:\tlearn: 1799.3293334\ttotal: 618ms\tremaining: 3.24s\n",
      "160:\tlearn: 1797.1867015\ttotal: 620ms\tremaining: 3.23s\n",
      "161:\tlearn: 1796.3078408\ttotal: 622ms\tremaining: 3.21s\n",
      "162:\tlearn: 1793.6606034\ttotal: 624ms\tremaining: 3.2s\n",
      "163:\tlearn: 1793.0281765\ttotal: 626ms\tremaining: 3.19s\n",
      "164:\tlearn: 1790.6797610\ttotal: 629ms\tremaining: 3.18s\n",
      "165:\tlearn: 1790.1303832\ttotal: 630ms\tremaining: 3.17s\n",
      "166:\tlearn: 1789.4533209\ttotal: 633ms\tremaining: 3.15s\n",
      "167:\tlearn: 1788.6527127\ttotal: 635ms\tremaining: 3.14s\n",
      "168:\tlearn: 1787.8041368\ttotal: 637ms\tremaining: 3.13s\n",
      "169:\tlearn: 1785.8076837\ttotal: 639ms\tremaining: 3.12s\n",
      "170:\tlearn: 1784.2482696\ttotal: 641ms\tremaining: 3.11s\n",
      "171:\tlearn: 1780.3296305\ttotal: 643ms\tremaining: 3.1s\n",
      "172:\tlearn: 1780.1392834\ttotal: 645ms\tremaining: 3.08s\n",
      "173:\tlearn: 1777.4341092\ttotal: 648ms\tremaining: 3.08s\n",
      "174:\tlearn: 1777.2472826\ttotal: 650ms\tremaining: 3.06s\n",
      "175:\tlearn: 1775.2634139\ttotal: 653ms\tremaining: 3.06s\n",
      "176:\tlearn: 1773.5179316\ttotal: 655ms\tremaining: 3.04s\n",
      "177:\tlearn: 1769.3132184\ttotal: 657ms\tremaining: 3.03s\n",
      "178:\tlearn: 1769.1335823\ttotal: 660ms\tremaining: 3.02s\n",
      "179:\tlearn: 1767.3840445\ttotal: 662ms\tremaining: 3.01s\n",
      "180:\tlearn: 1763.7308350\ttotal: 664ms\tremaining: 3s\n",
      "181:\tlearn: 1763.1802794\ttotal: 666ms\tremaining: 3s\n",
      "182:\tlearn: 1760.3531553\ttotal: 669ms\tremaining: 2.98s\n",
      "183:\tlearn: 1758.6993669\ttotal: 671ms\tremaining: 2.97s\n",
      "184:\tlearn: 1756.1017387\ttotal: 673ms\tremaining: 2.96s\n",
      "185:\tlearn: 1754.1420384\ttotal: 675ms\tremaining: 2.95s\n",
      "186:\tlearn: 1753.9566805\ttotal: 677ms\tremaining: 2.94s\n",
      "187:\tlearn: 1753.5574287\ttotal: 679ms\tremaining: 2.93s\n",
      "188:\tlearn: 1751.8908676\ttotal: 681ms\tremaining: 2.92s\n",
      "189:\tlearn: 1751.7030374\ttotal: 684ms\tremaining: 2.91s\n",
      "190:\tlearn: 1751.1830214\ttotal: 686ms\tremaining: 2.9s\n",
      "191:\tlearn: 1751.0176022\ttotal: 688ms\tremaining: 2.9s\n",
      "192:\tlearn: 1748.1963795\ttotal: 691ms\tremaining: 2.89s\n",
      "193:\tlearn: 1747.2706677\ttotal: 693ms\tremaining: 2.88s\n",
      "194:\tlearn: 1747.1256956\ttotal: 696ms\tremaining: 2.87s\n",
      "195:\tlearn: 1746.9765366\ttotal: 698ms\tremaining: 2.86s\n",
      "196:\tlearn: 1746.8157545\ttotal: 700ms\tremaining: 2.85s\n",
      "197:\tlearn: 1744.1312966\ttotal: 702ms\tremaining: 2.84s\n",
      "198:\tlearn: 1743.3246486\ttotal: 704ms\tremaining: 2.83s\n",
      "199:\tlearn: 1741.1102883\ttotal: 707ms\tremaining: 2.83s\n",
      "200:\tlearn: 1738.6624435\ttotal: 709ms\tremaining: 2.82s\n",
      "201:\tlearn: 1738.3221782\ttotal: 711ms\tremaining: 2.81s\n",
      "202:\tlearn: 1735.5006204\ttotal: 714ms\tremaining: 2.8s\n",
      "203:\tlearn: 1733.1223958\ttotal: 717ms\tremaining: 2.8s\n",
      "204:\tlearn: 1731.1590929\ttotal: 719ms\tremaining: 2.79s\n",
      "205:\tlearn: 1730.6347527\ttotal: 721ms\tremaining: 2.78s\n",
      "206:\tlearn: 1726.9335670\ttotal: 724ms\tremaining: 2.77s\n",
      "207:\tlearn: 1724.6468894\ttotal: 726ms\tremaining: 2.76s\n",
      "208:\tlearn: 1723.1307290\ttotal: 728ms\tremaining: 2.75s\n",
      "209:\tlearn: 1719.7101497\ttotal: 731ms\tremaining: 2.75s\n",
      "210:\tlearn: 1719.5836576\ttotal: 732ms\tremaining: 2.74s\n",
      "211:\tlearn: 1717.8615242\ttotal: 735ms\tremaining: 2.73s\n",
      "212:\tlearn: 1714.9781722\ttotal: 737ms\tremaining: 2.72s\n",
      "213:\tlearn: 1712.2932032\ttotal: 739ms\tremaining: 2.71s\n",
      "214:\tlearn: 1712.1573470\ttotal: 742ms\tremaining: 2.71s\n",
      "215:\tlearn: 1710.3923529\ttotal: 744ms\tremaining: 2.7s\n",
      "216:\tlearn: 1710.2601343\ttotal: 746ms\tremaining: 2.69s\n",
      "217:\tlearn: 1706.8958701\ttotal: 749ms\tremaining: 2.69s\n",
      "218:\tlearn: 1704.5632496\ttotal: 751ms\tremaining: 2.68s\n",
      "219:\tlearn: 1704.4352893\ttotal: 753ms\tremaining: 2.67s\n",
      "220:\tlearn: 1704.3211563\ttotal: 755ms\tremaining: 2.66s\n",
      "221:\tlearn: 1702.7773057\ttotal: 757ms\tremaining: 2.65s\n",
      "222:\tlearn: 1700.5698417\ttotal: 760ms\tremaining: 2.65s\n",
      "223:\tlearn: 1698.7668896\ttotal: 762ms\tremaining: 2.64s\n",
      "224:\tlearn: 1696.8870955\ttotal: 764ms\tremaining: 2.63s\n",
      "225:\tlearn: 1696.2613145\ttotal: 766ms\tremaining: 2.62s\n",
      "226:\tlearn: 1696.1446309\ttotal: 768ms\tremaining: 2.62s\n",
      "227:\tlearn: 1693.5868036\ttotal: 771ms\tremaining: 2.61s\n",
      "228:\tlearn: 1693.4737895\ttotal: 773ms\tremaining: 2.6s\n",
      "229:\tlearn: 1691.1276986\ttotal: 775ms\tremaining: 2.59s\n",
      "230:\tlearn: 1688.8808476\ttotal: 777ms\tremaining: 2.59s\n",
      "231:\tlearn: 1688.6223546\ttotal: 779ms\tremaining: 2.58s\n",
      "232:\tlearn: 1686.6598364\ttotal: 781ms\tremaining: 2.57s\n",
      "233:\tlearn: 1685.4472503\ttotal: 784ms\tremaining: 2.57s\n",
      "234:\tlearn: 1683.2356733\ttotal: 786ms\tremaining: 2.56s\n",
      "235:\tlearn: 1681.3143416\ttotal: 788ms\tremaining: 2.55s\n",
      "236:\tlearn: 1681.2165739\ttotal: 790ms\tremaining: 2.54s\n",
      "237:\tlearn: 1681.1217639\ttotal: 792ms\tremaining: 2.54s\n",
      "238:\tlearn: 1679.0696630\ttotal: 795ms\tremaining: 2.53s\n",
      "239:\tlearn: 1676.8089102\ttotal: 797ms\tremaining: 2.52s\n",
      "240:\tlearn: 1675.0576251\ttotal: 799ms\tremaining: 2.52s\n",
      "241:\tlearn: 1673.3417814\ttotal: 801ms\tremaining: 2.51s\n",
      "242:\tlearn: 1672.1660989\ttotal: 803ms\tremaining: 2.5s\n",
      "243:\tlearn: 1669.5481374\ttotal: 805ms\tremaining: 2.5s\n",
      "244:\tlearn: 1668.6235994\ttotal: 808ms\tremaining: 2.49s\n",
      "245:\tlearn: 1665.2534625\ttotal: 810ms\tremaining: 2.48s\n",
      "246:\tlearn: 1663.7908841\ttotal: 812ms\tremaining: 2.48s\n",
      "247:\tlearn: 1661.6579916\ttotal: 815ms\tremaining: 2.47s\n",
      "248:\tlearn: 1661.4071923\ttotal: 817ms\tremaining: 2.46s\n",
      "249:\tlearn: 1659.4818144\ttotal: 819ms\tremaining: 2.46s\n",
      "250:\tlearn: 1656.2613809\ttotal: 822ms\tremaining: 2.45s\n",
      "251:\tlearn: 1656.1639018\ttotal: 824ms\tremaining: 2.45s\n",
      "252:\tlearn: 1656.0697025\ttotal: 826ms\tremaining: 2.44s\n",
      "253:\tlearn: 1654.0121247\ttotal: 828ms\tremaining: 2.43s\n",
      "254:\tlearn: 1650.9343132\ttotal: 831ms\tremaining: 2.43s\n",
      "255:\tlearn: 1650.7262021\ttotal: 833ms\tremaining: 2.42s\n",
      "256:\tlearn: 1648.8156202\ttotal: 835ms\tremaining: 2.41s\n",
      "257:\tlearn: 1647.0729903\ttotal: 837ms\tremaining: 2.41s\n",
      "258:\tlearn: 1644.2798827\ttotal: 839ms\tremaining: 2.4s\n",
      "259:\tlearn: 1642.8722672\ttotal: 841ms\tremaining: 2.39s\n",
      "260:\tlearn: 1642.7899033\ttotal: 843ms\tremaining: 2.39s\n",
      "261:\tlearn: 1642.7024230\ttotal: 845ms\tremaining: 2.38s\n",
      "262:\tlearn: 1639.9069010\ttotal: 848ms\tremaining: 2.38s\n",
      "263:\tlearn: 1638.1267434\ttotal: 850ms\tremaining: 2.37s\n",
      "264:\tlearn: 1637.1940828\ttotal: 852ms\tremaining: 2.36s\n",
      "265:\tlearn: 1636.2441775\ttotal: 855ms\tremaining: 2.36s\n",
      "266:\tlearn: 1632.5546756\ttotal: 857ms\tremaining: 2.35s\n",
      "267:\tlearn: 1629.6392912\ttotal: 860ms\tremaining: 2.35s\n",
      "268:\tlearn: 1626.6872026\ttotal: 862ms\tremaining: 2.34s\n",
      "269:\tlearn: 1626.4682487\ttotal: 864ms\tremaining: 2.33s\n",
      "270:\tlearn: 1626.4130489\ttotal: 866ms\tremaining: 2.33s\n",
      "271:\tlearn: 1625.4533952\ttotal: 869ms\tremaining: 2.33s\n",
      "272:\tlearn: 1625.3721993\ttotal: 871ms\tremaining: 2.32s\n",
      "273:\tlearn: 1624.4746096\ttotal: 873ms\tremaining: 2.31s\n",
      "274:\tlearn: 1622.6273636\ttotal: 876ms\tremaining: 2.31s\n",
      "275:\tlearn: 1619.7483577\ttotal: 878ms\tremaining: 2.3s\n",
      "276:\tlearn: 1618.3007357\ttotal: 880ms\tremaining: 2.3s\n",
      "277:\tlearn: 1618.2424162\ttotal: 882ms\tremaining: 2.29s\n",
      "278:\tlearn: 1617.0173248\ttotal: 885ms\tremaining: 2.29s\n",
      "279:\tlearn: 1615.1647918\ttotal: 887ms\tremaining: 2.28s\n",
      "280:\tlearn: 1614.3432890\ttotal: 889ms\tremaining: 2.27s\n",
      "281:\tlearn: 1614.2930804\ttotal: 891ms\tremaining: 2.27s\n",
      "282:\tlearn: 1614.2207876\ttotal: 893ms\tremaining: 2.26s\n",
      "283:\tlearn: 1612.4753575\ttotal: 895ms\tremaining: 2.26s\n",
      "284:\tlearn: 1610.1542972\ttotal: 897ms\tremaining: 2.25s\n",
      "285:\tlearn: 1610.1066095\ttotal: 899ms\tremaining: 2.25s\n",
      "286:\tlearn: 1608.6523973\ttotal: 902ms\tremaining: 2.24s\n",
      "287:\tlearn: 1606.1752285\ttotal: 904ms\tremaining: 2.23s\n",
      "288:\tlearn: 1604.2755433\ttotal: 907ms\tremaining: 2.23s\n",
      "289:\tlearn: 1604.2061449\ttotal: 909ms\tremaining: 2.22s\n",
      "290:\tlearn: 1602.5346440\ttotal: 911ms\tremaining: 2.22s\n",
      "291:\tlearn: 1600.6896153\ttotal: 913ms\tremaining: 2.21s\n",
      "292:\tlearn: 1598.4396300\ttotal: 916ms\tremaining: 2.21s\n",
      "293:\tlearn: 1596.7251345\ttotal: 918ms\tremaining: 2.21s\n",
      "294:\tlearn: 1594.1437885\ttotal: 920ms\tremaining: 2.2s\n",
      "295:\tlearn: 1593.2229580\ttotal: 923ms\tremaining: 2.19s\n",
      "296:\tlearn: 1591.6547991\ttotal: 925ms\tremaining: 2.19s\n",
      "297:\tlearn: 1590.2051536\ttotal: 927ms\tremaining: 2.18s\n",
      "298:\tlearn: 1588.6987116\ttotal: 929ms\tremaining: 2.18s\n",
      "299:\tlearn: 1587.8080080\ttotal: 932ms\tremaining: 2.17s\n",
      "300:\tlearn: 1587.0228002\ttotal: 934ms\tremaining: 2.17s\n"
     ]
    },
    {
     "name": "stdout",
     "output_type": "stream",
     "text": [
      "301:\tlearn: 1584.7065661\ttotal: 936ms\tremaining: 2.16s\n",
      "302:\tlearn: 1583.3605507\ttotal: 938ms\tremaining: 2.16s\n",
      "303:\tlearn: 1581.9772913\ttotal: 941ms\tremaining: 2.15s\n",
      "304:\tlearn: 1580.2281092\ttotal: 944ms\tremaining: 2.15s\n",
      "305:\tlearn: 1578.6599822\ttotal: 947ms\tremaining: 2.15s\n",
      "306:\tlearn: 1577.9370081\ttotal: 950ms\tremaining: 2.15s\n",
      "307:\tlearn: 1576.8185629\ttotal: 959ms\tremaining: 2.15s\n",
      "308:\tlearn: 1576.7735146\ttotal: 961ms\tremaining: 2.15s\n",
      "309:\tlearn: 1575.7302736\ttotal: 964ms\tremaining: 2.15s\n",
      "310:\tlearn: 1573.5082707\ttotal: 970ms\tremaining: 2.15s\n",
      "311:\tlearn: 1573.4399606\ttotal: 973ms\tremaining: 2.14s\n",
      "312:\tlearn: 1573.3966361\ttotal: 975ms\tremaining: 2.14s\n",
      "313:\tlearn: 1572.1170385\ttotal: 978ms\tremaining: 2.14s\n",
      "314:\tlearn: 1570.5699508\ttotal: 981ms\tremaining: 2.13s\n",
      "315:\tlearn: 1570.5278206\ttotal: 983ms\tremaining: 2.13s\n",
      "316:\tlearn: 1568.9112915\ttotal: 988ms\tremaining: 2.13s\n",
      "317:\tlearn: 1568.8700868\ttotal: 990ms\tremaining: 2.12s\n",
      "318:\tlearn: 1568.8300555\ttotal: 992ms\tremaining: 2.12s\n",
      "319:\tlearn: 1568.7910580\ttotal: 995ms\tremaining: 2.11s\n",
      "320:\tlearn: 1567.5035699\ttotal: 998ms\tremaining: 2.11s\n",
      "321:\tlearn: 1566.0472647\ttotal: 1s\tremaining: 2.11s\n",
      "322:\tlearn: 1564.7634197\ttotal: 1s\tremaining: 2.1s\n",
      "323:\tlearn: 1563.1578304\ttotal: 1.01s\tremaining: 2.1s\n",
      "324:\tlearn: 1562.0872507\ttotal: 1.01s\tremaining: 2.09s\n",
      "325:\tlearn: 1560.6984496\ttotal: 1.01s\tremaining: 2.09s\n",
      "326:\tlearn: 1559.4099973\ttotal: 1.01s\tremaining: 2.09s\n",
      "327:\tlearn: 1557.6062635\ttotal: 1.02s\tremaining: 2.08s\n",
      "328:\tlearn: 1557.5654241\ttotal: 1.02s\tremaining: 2.08s\n",
      "329:\tlearn: 1554.5074347\ttotal: 1.02s\tremaining: 2.07s\n",
      "330:\tlearn: 1554.4716033\ttotal: 1.02s\tremaining: 2.07s\n",
      "331:\tlearn: 1553.6589223\ttotal: 1.03s\tremaining: 2.07s\n",
      "332:\tlearn: 1552.3566035\ttotal: 1.03s\tremaining: 2.06s\n",
      "333:\tlearn: 1551.6668930\ttotal: 1.03s\tremaining: 2.06s\n",
      "334:\tlearn: 1551.6073177\ttotal: 1.03s\tremaining: 2.06s\n",
      "335:\tlearn: 1548.5782637\ttotal: 1.04s\tremaining: 2.05s\n",
      "336:\tlearn: 1547.2806524\ttotal: 1.04s\tremaining: 2.05s\n",
      "337:\tlearn: 1546.0550583\ttotal: 1.04s\tremaining: 2.05s\n",
      "338:\tlearn: 1545.4498670\ttotal: 1.05s\tremaining: 2.04s\n",
      "339:\tlearn: 1543.6824515\ttotal: 1.05s\tremaining: 2.04s\n",
      "340:\tlearn: 1542.9388079\ttotal: 1.05s\tremaining: 2.04s\n",
      "341:\tlearn: 1542.8817090\ttotal: 1.05s\tremaining: 2.03s\n",
      "342:\tlearn: 1542.0862582\ttotal: 1.06s\tremaining: 2.03s\n",
      "343:\tlearn: 1542.0534022\ttotal: 1.06s\tremaining: 2.02s\n",
      "344:\tlearn: 1540.5959717\ttotal: 1.06s\tremaining: 2.02s\n",
      "345:\tlearn: 1539.3529253\ttotal: 1.07s\tremaining: 2.02s\n",
      "346:\tlearn: 1537.1989601\ttotal: 1.07s\tremaining: 2.01s\n",
      "347:\tlearn: 1535.2373309\ttotal: 1.07s\tremaining: 2.01s\n",
      "348:\tlearn: 1532.4737787\ttotal: 1.07s\tremaining: 2s\n",
      "349:\tlearn: 1531.0272645\ttotal: 1.08s\tremaining: 2s\n",
      "350:\tlearn: 1529.3270701\ttotal: 1.08s\tremaining: 2s\n",
      "351:\tlearn: 1528.4226500\ttotal: 1.08s\tremaining: 1.99s\n",
      "352:\tlearn: 1526.4638749\ttotal: 1.08s\tremaining: 1.99s\n",
      "353:\tlearn: 1525.2052043\ttotal: 1.09s\tremaining: 1.98s\n",
      "354:\tlearn: 1524.0180975\ttotal: 1.09s\tremaining: 1.98s\n",
      "355:\tlearn: 1522.6389348\ttotal: 1.09s\tremaining: 1.98s\n",
      "356:\tlearn: 1519.6215598\ttotal: 1.1s\tremaining: 1.98s\n",
      "357:\tlearn: 1518.4431005\ttotal: 1.1s\tremaining: 1.97s\n",
      "358:\tlearn: 1517.3658515\ttotal: 1.1s\tremaining: 1.97s\n",
      "359:\tlearn: 1516.7128387\ttotal: 1.1s\tremaining: 1.96s\n",
      "360:\tlearn: 1515.6304643\ttotal: 1.11s\tremaining: 1.96s\n",
      "361:\tlearn: 1513.7161604\ttotal: 1.11s\tremaining: 1.95s\n",
      "362:\tlearn: 1512.5058857\ttotal: 1.11s\tremaining: 1.95s\n",
      "363:\tlearn: 1512.4783964\ttotal: 1.11s\tremaining: 1.94s\n",
      "364:\tlearn: 1511.1676062\ttotal: 1.11s\tremaining: 1.94s\n",
      "365:\tlearn: 1509.8720082\ttotal: 1.12s\tremaining: 1.94s\n",
      "366:\tlearn: 1508.7943192\ttotal: 1.12s\tremaining: 1.93s\n",
      "367:\tlearn: 1507.9865143\ttotal: 1.12s\tremaining: 1.93s\n",
      "368:\tlearn: 1506.7916695\ttotal: 1.12s\tremaining: 1.92s\n",
      "369:\tlearn: 1506.7645167\ttotal: 1.13s\tremaining: 1.92s\n",
      "370:\tlearn: 1506.0971320\ttotal: 1.13s\tremaining: 1.91s\n",
      "371:\tlearn: 1505.1006891\ttotal: 1.13s\tremaining: 1.91s\n",
      "372:\tlearn: 1504.3962242\ttotal: 1.14s\tremaining: 1.91s\n",
      "373:\tlearn: 1503.0430301\ttotal: 1.14s\tremaining: 1.9s\n",
      "374:\tlearn: 1502.2658623\ttotal: 1.14s\tremaining: 1.9s\n",
      "375:\tlearn: 1501.6247270\ttotal: 1.14s\tremaining: 1.9s\n",
      "376:\tlearn: 1500.2448894\ttotal: 1.14s\tremaining: 1.89s\n",
      "377:\tlearn: 1498.6448592\ttotal: 1.15s\tremaining: 1.89s\n",
      "378:\tlearn: 1498.6147444\ttotal: 1.15s\tremaining: 1.88s\n",
      "379:\tlearn: 1498.5888527\ttotal: 1.15s\tremaining: 1.88s\n",
      "380:\tlearn: 1497.1836355\ttotal: 1.15s\tremaining: 1.87s\n",
      "381:\tlearn: 1494.2849084\ttotal: 1.16s\tremaining: 1.87s\n",
      "382:\tlearn: 1493.3350732\ttotal: 1.16s\tremaining: 1.86s\n",
      "383:\tlearn: 1492.8876246\ttotal: 1.16s\tremaining: 1.86s\n",
      "384:\tlearn: 1491.3368723\ttotal: 1.16s\tremaining: 1.86s\n",
      "385:\tlearn: 1490.1941629\ttotal: 1.16s\tremaining: 1.85s\n",
      "386:\tlearn: 1488.8816100\ttotal: 1.17s\tremaining: 1.85s\n",
      "387:\tlearn: 1488.2994915\ttotal: 1.17s\tremaining: 1.84s\n",
      "388:\tlearn: 1487.0894358\ttotal: 1.17s\tremaining: 1.84s\n",
      "389:\tlearn: 1485.4241865\ttotal: 1.17s\tremaining: 1.84s\n",
      "390:\tlearn: 1484.5326270\ttotal: 1.18s\tremaining: 1.83s\n",
      "391:\tlearn: 1483.1418037\ttotal: 1.18s\tremaining: 1.83s\n",
      "392:\tlearn: 1483.1173679\ttotal: 1.18s\tremaining: 1.82s\n",
      "393:\tlearn: 1483.0936269\ttotal: 1.18s\tremaining: 1.82s\n",
      "394:\tlearn: 1481.9743284\ttotal: 1.19s\tremaining: 1.82s\n",
      "395:\tlearn: 1481.9512366\ttotal: 1.19s\tremaining: 1.81s\n",
      "396:\tlearn: 1480.6903696\ttotal: 1.19s\tremaining: 1.81s\n",
      "397:\tlearn: 1480.6650341\ttotal: 1.19s\tremaining: 1.81s\n",
      "398:\tlearn: 1479.3653651\ttotal: 1.2s\tremaining: 1.8s\n",
      "399:\tlearn: 1476.7713465\ttotal: 1.2s\tremaining: 1.8s\n",
      "400:\tlearn: 1475.5387259\ttotal: 1.2s\tremaining: 1.79s\n",
      "401:\tlearn: 1474.1538450\ttotal: 1.21s\tremaining: 1.79s\n",
      "402:\tlearn: 1474.1319794\ttotal: 1.21s\tremaining: 1.79s\n",
      "403:\tlearn: 1473.1660678\ttotal: 1.21s\tremaining: 1.78s\n",
      "404:\tlearn: 1472.3037229\ttotal: 1.21s\tremaining: 1.78s\n",
      "405:\tlearn: 1471.6367093\ttotal: 1.21s\tremaining: 1.78s\n",
      "406:\tlearn: 1470.4249886\ttotal: 1.22s\tremaining: 1.77s\n",
      "407:\tlearn: 1470.4038479\ttotal: 1.22s\tremaining: 1.77s\n",
      "408:\tlearn: 1470.3805227\ttotal: 1.22s\tremaining: 1.77s\n",
      "409:\tlearn: 1468.7507729\ttotal: 1.23s\tremaining: 1.76s\n",
      "410:\tlearn: 1467.6823914\ttotal: 1.23s\tremaining: 1.76s\n",
      "411:\tlearn: 1467.0607545\ttotal: 1.23s\tremaining: 1.76s\n",
      "412:\tlearn: 1466.2830978\ttotal: 1.23s\tremaining: 1.75s\n",
      "413:\tlearn: 1465.4567925\ttotal: 1.24s\tremaining: 1.75s\n",
      "414:\tlearn: 1465.4364909\ttotal: 1.24s\tremaining: 1.75s\n",
      "415:\tlearn: 1464.3809671\ttotal: 1.24s\tremaining: 1.74s\n",
      "416:\tlearn: 1463.1807899\ttotal: 1.24s\tremaining: 1.74s\n",
      "417:\tlearn: 1463.1610781\ttotal: 1.25s\tremaining: 1.74s\n",
      "418:\tlearn: 1461.6235754\ttotal: 1.25s\tremaining: 1.73s\n",
      "419:\tlearn: 1460.8877766\ttotal: 1.25s\tremaining: 1.73s\n",
      "420:\tlearn: 1459.9881794\ttotal: 1.25s\tremaining: 1.72s\n",
      "421:\tlearn: 1458.9131854\ttotal: 1.26s\tremaining: 1.72s\n",
      "422:\tlearn: 1458.2051534\ttotal: 1.26s\tremaining: 1.72s\n",
      "423:\tlearn: 1457.2860737\ttotal: 1.26s\tremaining: 1.71s\n",
      "424:\tlearn: 1457.2669092\ttotal: 1.26s\tremaining: 1.71s\n",
      "425:\tlearn: 1455.1011468\ttotal: 1.27s\tremaining: 1.71s\n",
      "426:\tlearn: 1454.1455704\ttotal: 1.27s\tremaining: 1.7s\n",
      "427:\tlearn: 1454.1266280\ttotal: 1.27s\tremaining: 1.7s\n",
      "428:\tlearn: 1452.9768476\ttotal: 1.27s\tremaining: 1.7s\n",
      "429:\tlearn: 1452.3497944\ttotal: 1.28s\tremaining: 1.69s\n",
      "430:\tlearn: 1449.9856910\ttotal: 1.28s\tremaining: 1.69s\n",
      "431:\tlearn: 1449.0103246\ttotal: 1.28s\tremaining: 1.69s\n",
      "432:\tlearn: 1447.0786562\ttotal: 1.28s\tremaining: 1.68s\n",
      "433:\tlearn: 1446.1641836\ttotal: 1.29s\tremaining: 1.68s\n",
      "434:\tlearn: 1445.1503202\ttotal: 1.29s\tremaining: 1.68s\n",
      "435:\tlearn: 1445.1310996\ttotal: 1.29s\tremaining: 1.67s\n",
      "436:\tlearn: 1444.0687574\ttotal: 1.29s\tremaining: 1.67s\n",
      "437:\tlearn: 1443.4745409\ttotal: 1.3s\tremaining: 1.67s\n",
      "438:\tlearn: 1441.4342770\ttotal: 1.3s\tremaining: 1.66s\n",
      "439:\tlearn: 1439.7187983\ttotal: 1.3s\tremaining: 1.66s\n",
      "440:\tlearn: 1438.6484997\ttotal: 1.3s\tremaining: 1.66s\n",
      "441:\tlearn: 1438.0490281\ttotal: 1.31s\tremaining: 1.65s\n",
      "442:\tlearn: 1435.3537470\ttotal: 1.31s\tremaining: 1.65s\n",
      "443:\tlearn: 1434.4645259\ttotal: 1.31s\tremaining: 1.64s\n",
      "444:\tlearn: 1433.3793808\ttotal: 1.32s\tremaining: 1.64s\n",
      "445:\tlearn: 1432.5796335\ttotal: 1.32s\tremaining: 1.64s\n",
      "446:\tlearn: 1432.5605237\ttotal: 1.32s\tremaining: 1.63s\n",
      "447:\tlearn: 1430.1413983\ttotal: 1.32s\tremaining: 1.63s\n",
      "448:\tlearn: 1430.1227623\ttotal: 1.33s\tremaining: 1.63s\n",
      "449:\tlearn: 1428.4846683\ttotal: 1.33s\tremaining: 1.62s\n",
      "450:\tlearn: 1427.8711168\ttotal: 1.33s\tremaining: 1.62s\n"
     ]
    },
    {
     "name": "stdout",
     "output_type": "stream",
     "text": [
      "451:\tlearn: 1427.8531460\ttotal: 1.33s\tremaining: 1.62s\n",
      "452:\tlearn: 1427.6699138\ttotal: 1.34s\tremaining: 1.61s\n",
      "453:\tlearn: 1427.2038982\ttotal: 1.34s\tremaining: 1.61s\n",
      "454:\tlearn: 1427.0294698\ttotal: 1.34s\tremaining: 1.6s\n",
      "455:\tlearn: 1425.7174144\ttotal: 1.34s\tremaining: 1.6s\n",
      "456:\tlearn: 1424.3216670\ttotal: 1.34s\tremaining: 1.6s\n",
      "457:\tlearn: 1424.3044945\ttotal: 1.35s\tremaining: 1.59s\n",
      "458:\tlearn: 1423.5360995\ttotal: 1.35s\tremaining: 1.59s\n",
      "459:\tlearn: 1422.9456806\ttotal: 1.35s\tremaining: 1.59s\n",
      "460:\tlearn: 1422.7836579\ttotal: 1.35s\tremaining: 1.58s\n",
      "461:\tlearn: 1420.4548567\ttotal: 1.36s\tremaining: 1.58s\n",
      "462:\tlearn: 1418.1431160\ttotal: 1.36s\tremaining: 1.58s\n",
      "463:\tlearn: 1417.9058243\ttotal: 1.36s\tremaining: 1.57s\n",
      "464:\tlearn: 1415.7793916\ttotal: 1.36s\tremaining: 1.57s\n",
      "465:\tlearn: 1413.6608046\ttotal: 1.37s\tremaining: 1.57s\n",
      "466:\tlearn: 1411.5503015\ttotal: 1.37s\tremaining: 1.56s\n",
      "467:\tlearn: 1409.9945276\ttotal: 1.37s\tremaining: 1.56s\n",
      "468:\tlearn: 1408.8298201\ttotal: 1.38s\tremaining: 1.56s\n",
      "469:\tlearn: 1407.4318836\ttotal: 1.38s\tremaining: 1.55s\n",
      "470:\tlearn: 1405.6144998\ttotal: 1.38s\tremaining: 1.55s\n",
      "471:\tlearn: 1404.7958090\ttotal: 1.38s\tremaining: 1.54s\n",
      "472:\tlearn: 1402.8706750\ttotal: 1.38s\tremaining: 1.54s\n",
      "473:\tlearn: 1401.9965985\ttotal: 1.39s\tremaining: 1.54s\n",
      "474:\tlearn: 1401.8392789\ttotal: 1.39s\tremaining: 1.53s\n",
      "475:\tlearn: 1401.8221390\ttotal: 1.39s\tremaining: 1.53s\n",
      "476:\tlearn: 1401.1017193\ttotal: 1.39s\tremaining: 1.53s\n",
      "477:\tlearn: 1401.0851708\ttotal: 1.39s\tremaining: 1.52s\n",
      "478:\tlearn: 1400.6383329\ttotal: 1.4s\tremaining: 1.52s\n",
      "479:\tlearn: 1399.9091480\ttotal: 1.4s\tremaining: 1.51s\n",
      "480:\tlearn: 1398.9797750\ttotal: 1.4s\tremaining: 1.51s\n",
      "481:\tlearn: 1398.9637481\ttotal: 1.4s\tremaining: 1.51s\n",
      "482:\tlearn: 1398.8135674\ttotal: 1.41s\tremaining: 1.5s\n",
      "483:\tlearn: 1398.7955784\ttotal: 1.41s\tremaining: 1.5s\n",
      "484:\tlearn: 1397.6989542\ttotal: 1.41s\tremaining: 1.5s\n",
      "485:\tlearn: 1396.3365321\ttotal: 1.41s\tremaining: 1.49s\n",
      "486:\tlearn: 1396.3211742\ttotal: 1.41s\tremaining: 1.49s\n",
      "487:\tlearn: 1395.4495106\ttotal: 1.42s\tremaining: 1.49s\n",
      "488:\tlearn: 1394.6811028\ttotal: 1.42s\tremaining: 1.48s\n",
      "489:\tlearn: 1393.6484803\ttotal: 1.42s\tremaining: 1.48s\n",
      "490:\tlearn: 1393.3453436\ttotal: 1.42s\tremaining: 1.48s\n",
      "491:\tlearn: 1392.9221896\ttotal: 1.43s\tremaining: 1.47s\n",
      "492:\tlearn: 1391.2690957\ttotal: 1.43s\tremaining: 1.47s\n",
      "493:\tlearn: 1390.9697425\ttotal: 1.43s\tremaining: 1.46s\n",
      "494:\tlearn: 1390.2479433\ttotal: 1.43s\tremaining: 1.46s\n",
      "495:\tlearn: 1389.5444236\ttotal: 1.43s\tremaining: 1.46s\n",
      "496:\tlearn: 1388.3147487\ttotal: 1.44s\tremaining: 1.45s\n",
      "497:\tlearn: 1387.1631229\ttotal: 1.44s\tremaining: 1.45s\n",
      "498:\tlearn: 1386.1150050\ttotal: 1.44s\tremaining: 1.45s\n",
      "499:\tlearn: 1385.3037941\ttotal: 1.44s\tremaining: 1.44s\n",
      "500:\tlearn: 1384.7133803\ttotal: 1.45s\tremaining: 1.44s\n",
      "501:\tlearn: 1383.5401996\ttotal: 1.45s\tremaining: 1.44s\n",
      "502:\tlearn: 1383.0573096\ttotal: 1.45s\tremaining: 1.43s\n",
      "503:\tlearn: 1381.9681978\ttotal: 1.45s\tremaining: 1.43s\n",
      "504:\tlearn: 1381.9508387\ttotal: 1.45s\tremaining: 1.43s\n",
      "505:\tlearn: 1381.1354661\ttotal: 1.46s\tremaining: 1.42s\n",
      "506:\tlearn: 1380.3075414\ttotal: 1.46s\tremaining: 1.42s\n",
      "507:\tlearn: 1380.2930776\ttotal: 1.46s\tremaining: 1.42s\n",
      "508:\tlearn: 1379.7565668\ttotal: 1.46s\tremaining: 1.41s\n",
      "509:\tlearn: 1379.2531928\ttotal: 1.47s\tremaining: 1.41s\n",
      "510:\tlearn: 1378.3521587\ttotal: 1.47s\tremaining: 1.41s\n",
      "511:\tlearn: 1376.9792695\ttotal: 1.47s\tremaining: 1.4s\n",
      "512:\tlearn: 1375.7403032\ttotal: 1.47s\tremaining: 1.4s\n",
      "513:\tlearn: 1373.9284374\ttotal: 1.48s\tremaining: 1.4s\n",
      "514:\tlearn: 1372.8917008\ttotal: 1.48s\tremaining: 1.39s\n",
      "515:\tlearn: 1371.7808148\ttotal: 1.48s\tremaining: 1.39s\n",
      "516:\tlearn: 1370.9927764\ttotal: 1.48s\tremaining: 1.39s\n",
      "517:\tlearn: 1370.4191801\ttotal: 1.48s\tremaining: 1.38s\n",
      "518:\tlearn: 1369.9642848\ttotal: 1.49s\tremaining: 1.38s\n",
      "519:\tlearn: 1369.1513748\ttotal: 1.49s\tremaining: 1.38s\n",
      "520:\tlearn: 1368.6614056\ttotal: 1.49s\tremaining: 1.37s\n",
      "521:\tlearn: 1367.8305087\ttotal: 1.49s\tremaining: 1.37s\n",
      "522:\tlearn: 1367.3181007\ttotal: 1.5s\tremaining: 1.36s\n",
      "523:\tlearn: 1367.2788078\ttotal: 1.5s\tremaining: 1.36s\n",
      "524:\tlearn: 1366.6184254\ttotal: 1.5s\tremaining: 1.36s\n",
      "525:\tlearn: 1365.8637197\ttotal: 1.5s\tremaining: 1.35s\n",
      "526:\tlearn: 1365.0515554\ttotal: 1.51s\tremaining: 1.35s\n",
      "527:\tlearn: 1364.6942694\ttotal: 1.51s\tremaining: 1.35s\n",
      "528:\tlearn: 1363.6665011\ttotal: 1.51s\tremaining: 1.34s\n",
      "529:\tlearn: 1362.9901963\ttotal: 1.51s\tremaining: 1.34s\n",
      "530:\tlearn: 1362.5649257\ttotal: 1.51s\tremaining: 1.34s\n",
      "531:\tlearn: 1361.9039968\ttotal: 1.52s\tremaining: 1.33s\n",
      "532:\tlearn: 1361.4924085\ttotal: 1.52s\tremaining: 1.33s\n",
      "533:\tlearn: 1361.1243135\ttotal: 1.52s\tremaining: 1.33s\n",
      "534:\tlearn: 1361.0872589\ttotal: 1.52s\tremaining: 1.32s\n",
      "535:\tlearn: 1360.3927951\ttotal: 1.53s\tremaining: 1.32s\n",
      "536:\tlearn: 1358.6611746\ttotal: 1.53s\tremaining: 1.32s\n",
      "537:\tlearn: 1358.2872772\ttotal: 1.53s\tremaining: 1.31s\n",
      "538:\tlearn: 1356.8758643\ttotal: 1.53s\tremaining: 1.31s\n",
      "539:\tlearn: 1355.5630709\ttotal: 1.54s\tremaining: 1.31s\n",
      "540:\tlearn: 1355.5490032\ttotal: 1.54s\tremaining: 1.3s\n",
      "541:\tlearn: 1355.0912750\ttotal: 1.54s\tremaining: 1.3s\n",
      "542:\tlearn: 1354.4205419\ttotal: 1.54s\tremaining: 1.3s\n",
      "543:\tlearn: 1353.6596340\ttotal: 1.54s\tremaining: 1.29s\n",
      "544:\tlearn: 1353.6229917\ttotal: 1.55s\tremaining: 1.29s\n",
      "545:\tlearn: 1353.5874920\ttotal: 1.55s\tremaining: 1.29s\n",
      "546:\tlearn: 1351.9608733\ttotal: 1.55s\tremaining: 1.28s\n",
      "547:\tlearn: 1351.4681248\ttotal: 1.55s\tremaining: 1.28s\n",
      "548:\tlearn: 1350.5867470\ttotal: 1.56s\tremaining: 1.28s\n",
      "549:\tlearn: 1349.2038091\ttotal: 1.56s\tremaining: 1.28s\n",
      "550:\tlearn: 1348.5756994\ttotal: 1.56s\tremaining: 1.27s\n",
      "551:\tlearn: 1348.2496711\ttotal: 1.56s\tremaining: 1.27s\n",
      "552:\tlearn: 1347.7742807\ttotal: 1.56s\tremaining: 1.26s\n",
      "553:\tlearn: 1346.6509379\ttotal: 1.57s\tremaining: 1.26s\n",
      "554:\tlearn: 1345.8336336\ttotal: 1.57s\tremaining: 1.26s\n",
      "555:\tlearn: 1344.7184862\ttotal: 1.57s\tremaining: 1.26s\n",
      "556:\tlearn: 1343.7216377\ttotal: 1.57s\tremaining: 1.25s\n",
      "557:\tlearn: 1343.3460030\ttotal: 1.58s\tremaining: 1.25s\n",
      "558:\tlearn: 1342.9589150\ttotal: 1.58s\tremaining: 1.25s\n",
      "559:\tlearn: 1342.6480348\ttotal: 1.58s\tremaining: 1.24s\n",
      "560:\tlearn: 1342.2259162\ttotal: 1.58s\tremaining: 1.24s\n",
      "561:\tlearn: 1341.0921792\ttotal: 1.59s\tremaining: 1.24s\n",
      "562:\tlearn: 1340.3031948\ttotal: 1.59s\tremaining: 1.23s\n",
      "563:\tlearn: 1339.8518071\ttotal: 1.59s\tremaining: 1.23s\n",
      "564:\tlearn: 1339.5239704\ttotal: 1.59s\tremaining: 1.23s\n",
      "565:\tlearn: 1338.7524860\ttotal: 1.6s\tremaining: 1.22s\n",
      "566:\tlearn: 1338.0865374\ttotal: 1.6s\tremaining: 1.22s\n",
      "567:\tlearn: 1337.7688285\ttotal: 1.6s\tremaining: 1.22s\n",
      "568:\tlearn: 1337.1091621\ttotal: 1.6s\tremaining: 1.22s\n",
      "569:\tlearn: 1335.6522522\ttotal: 1.61s\tremaining: 1.21s\n",
      "570:\tlearn: 1334.8549350\ttotal: 1.61s\tremaining: 1.21s\n",
      "571:\tlearn: 1333.8513059\ttotal: 1.62s\tremaining: 1.21s\n",
      "572:\tlearn: 1333.4594873\ttotal: 1.62s\tremaining: 1.21s\n",
      "573:\tlearn: 1332.2957429\ttotal: 1.62s\tremaining: 1.2s\n",
      "574:\tlearn: 1332.2831197\ttotal: 1.62s\tremaining: 1.2s\n",
      "575:\tlearn: 1332.2705093\ttotal: 1.63s\tremaining: 1.2s\n",
      "576:\tlearn: 1332.0847389\ttotal: 1.63s\tremaining: 1.19s\n",
      "577:\tlearn: 1331.5858108\ttotal: 1.63s\tremaining: 1.19s\n",
      "578:\tlearn: 1331.5735038\ttotal: 1.63s\tremaining: 1.19s\n",
      "579:\tlearn: 1331.2176058\ttotal: 1.64s\tremaining: 1.19s\n",
      "580:\tlearn: 1331.1842769\ttotal: 1.64s\tremaining: 1.18s\n",
      "581:\tlearn: 1330.5795890\ttotal: 1.64s\tremaining: 1.18s\n",
      "582:\tlearn: 1329.9353352\ttotal: 1.64s\tremaining: 1.18s\n",
      "583:\tlearn: 1329.0738924\ttotal: 1.65s\tremaining: 1.17s\n",
      "584:\tlearn: 1329.0623866\ttotal: 1.65s\tremaining: 1.17s\n",
      "585:\tlearn: 1328.4638412\ttotal: 1.65s\tremaining: 1.17s\n",
      "586:\tlearn: 1327.9048833\ttotal: 1.65s\tremaining: 1.16s\n",
      "587:\tlearn: 1327.5575943\ttotal: 1.65s\tremaining: 1.16s\n",
      "588:\tlearn: 1326.5480739\ttotal: 1.66s\tremaining: 1.16s\n",
      "589:\tlearn: 1326.5362895\ttotal: 1.66s\tremaining: 1.15s\n",
      "590:\tlearn: 1326.3648394\ttotal: 1.66s\tremaining: 1.15s\n",
      "591:\tlearn: 1326.3534686\ttotal: 1.66s\tremaining: 1.15s\n",
      "592:\tlearn: 1326.3426012\ttotal: 1.67s\tremaining: 1.14s\n",
      "593:\tlearn: 1325.8534846\ttotal: 1.67s\tremaining: 1.14s\n",
      "594:\tlearn: 1324.4300413\ttotal: 1.67s\tremaining: 1.14s\n",
      "595:\tlearn: 1323.6638336\ttotal: 1.67s\tremaining: 1.13s\n",
      "596:\tlearn: 1322.9962831\ttotal: 1.68s\tremaining: 1.13s\n",
      "597:\tlearn: 1321.8092992\ttotal: 1.68s\tremaining: 1.13s\n",
      "598:\tlearn: 1320.8675461\ttotal: 1.68s\tremaining: 1.12s\n",
      "599:\tlearn: 1320.8573421\ttotal: 1.68s\tremaining: 1.12s\n",
      "600:\tlearn: 1320.4336623\ttotal: 1.68s\tremaining: 1.12s\n"
     ]
    },
    {
     "name": "stdout",
     "output_type": "stream",
     "text": [
      "601:\tlearn: 1319.4951710\ttotal: 1.69s\tremaining: 1.11s\n",
      "602:\tlearn: 1318.8692254\ttotal: 1.69s\tremaining: 1.11s\n",
      "603:\tlearn: 1318.2692242\ttotal: 1.69s\tremaining: 1.11s\n",
      "604:\tlearn: 1317.3194092\ttotal: 1.69s\tremaining: 1.11s\n",
      "605:\tlearn: 1316.3966314\ttotal: 1.7s\tremaining: 1.1s\n",
      "606:\tlearn: 1315.2031923\ttotal: 1.7s\tremaining: 1.1s\n",
      "607:\tlearn: 1314.1817739\ttotal: 1.7s\tremaining: 1.1s\n",
      "608:\tlearn: 1312.8855252\ttotal: 1.7s\tremaining: 1.09s\n",
      "609:\tlearn: 1312.1530423\ttotal: 1.71s\tremaining: 1.09s\n",
      "610:\tlearn: 1311.2959866\ttotal: 1.71s\tremaining: 1.09s\n",
      "611:\tlearn: 1310.0170706\ttotal: 1.71s\tremaining: 1.08s\n",
      "612:\tlearn: 1309.6376978\ttotal: 1.72s\tremaining: 1.08s\n",
      "613:\tlearn: 1308.7148859\ttotal: 1.72s\tremaining: 1.08s\n",
      "614:\tlearn: 1307.5168569\ttotal: 1.72s\tremaining: 1.08s\n",
      "615:\tlearn: 1307.5065275\ttotal: 1.72s\tremaining: 1.07s\n",
      "616:\tlearn: 1306.8155127\ttotal: 1.73s\tremaining: 1.07s\n",
      "617:\tlearn: 1306.0065847\ttotal: 1.73s\tremaining: 1.07s\n",
      "618:\tlearn: 1305.0743706\ttotal: 1.73s\tremaining: 1.07s\n",
      "619:\tlearn: 1304.4866839\ttotal: 1.74s\tremaining: 1.06s\n",
      "620:\tlearn: 1303.3438573\ttotal: 1.74s\tremaining: 1.06s\n",
      "621:\tlearn: 1303.3348376\ttotal: 1.74s\tremaining: 1.06s\n",
      "622:\tlearn: 1303.3040061\ttotal: 1.74s\tremaining: 1.05s\n",
      "623:\tlearn: 1302.2931750\ttotal: 1.74s\tremaining: 1.05s\n",
      "624:\tlearn: 1301.9895425\ttotal: 1.75s\tremaining: 1.05s\n",
      "625:\tlearn: 1301.0434378\ttotal: 1.75s\tremaining: 1.05s\n",
      "626:\tlearn: 1300.3926112\ttotal: 1.75s\tremaining: 1.04s\n",
      "627:\tlearn: 1299.3742023\ttotal: 1.76s\tremaining: 1.04s\n",
      "628:\tlearn: 1298.8589311\ttotal: 1.76s\tremaining: 1.04s\n",
      "629:\tlearn: 1298.8505798\ttotal: 1.76s\tremaining: 1.03s\n",
      "630:\tlearn: 1297.8667467\ttotal: 1.76s\tremaining: 1.03s\n",
      "631:\tlearn: 1297.8585453\ttotal: 1.77s\tremaining: 1.03s\n",
      "632:\tlearn: 1297.8505957\ttotal: 1.77s\tremaining: 1.03s\n",
      "633:\tlearn: 1297.2518402\ttotal: 1.77s\tremaining: 1.02s\n",
      "634:\tlearn: 1296.1144310\ttotal: 1.77s\tremaining: 1.02s\n",
      "635:\tlearn: 1294.5191505\ttotal: 1.78s\tremaining: 1.02s\n",
      "636:\tlearn: 1293.4055444\ttotal: 1.78s\tremaining: 1.01s\n",
      "637:\tlearn: 1292.6749630\ttotal: 1.78s\tremaining: 1.01s\n",
      "638:\tlearn: 1292.6672532\ttotal: 1.79s\tremaining: 1.01s\n",
      "639:\tlearn: 1291.5985905\ttotal: 1.79s\tremaining: 1.01s\n",
      "640:\tlearn: 1290.8305968\ttotal: 1.79s\tremaining: 1s\n",
      "641:\tlearn: 1290.8231021\ttotal: 1.79s\tremaining: 1s\n",
      "642:\tlearn: 1290.0314516\ttotal: 1.8s\tremaining: 997ms\n",
      "643:\tlearn: 1289.0539896\ttotal: 1.8s\tremaining: 995ms\n",
      "644:\tlearn: 1289.0466816\ttotal: 1.8s\tremaining: 992ms\n",
      "645:\tlearn: 1288.2437014\ttotal: 1.8s\tremaining: 988ms\n",
      "646:\tlearn: 1287.1266093\ttotal: 1.81s\tremaining: 986ms\n",
      "647:\tlearn: 1286.6960770\ttotal: 1.81s\tremaining: 983ms\n",
      "648:\tlearn: 1284.6765567\ttotal: 1.81s\tremaining: 980ms\n",
      "649:\tlearn: 1283.7494375\ttotal: 1.81s\tremaining: 977ms\n",
      "650:\tlearn: 1283.7421560\ttotal: 1.82s\tremaining: 974ms\n",
      "651:\tlearn: 1282.8964808\ttotal: 1.82s\tremaining: 971ms\n",
      "652:\tlearn: 1281.5233865\ttotal: 1.82s\tremaining: 968ms\n",
      "653:\tlearn: 1281.5162734\ttotal: 1.82s\tremaining: 965ms\n",
      "654:\tlearn: 1280.8502851\ttotal: 1.83s\tremaining: 962ms\n",
      "655:\tlearn: 1279.7969780\ttotal: 1.83s\tremaining: 959ms\n",
      "656:\tlearn: 1279.7900034\ttotal: 1.83s\tremaining: 956ms\n",
      "657:\tlearn: 1279.0948283\ttotal: 1.83s\tremaining: 954ms\n",
      "658:\tlearn: 1279.0880547\ttotal: 1.84s\tremaining: 951ms\n",
      "659:\tlearn: 1278.7419347\ttotal: 1.84s\tremaining: 948ms\n",
      "660:\tlearn: 1277.6196912\ttotal: 1.84s\tremaining: 945ms\n",
      "661:\tlearn: 1276.5389388\ttotal: 1.84s\tremaining: 942ms\n",
      "662:\tlearn: 1276.5319390\ttotal: 1.85s\tremaining: 939ms\n",
      "663:\tlearn: 1276.0540321\ttotal: 1.85s\tremaining: 936ms\n",
      "664:\tlearn: 1275.4511500\ttotal: 1.85s\tremaining: 933ms\n",
      "665:\tlearn: 1274.7118719\ttotal: 1.85s\tremaining: 931ms\n",
      "666:\tlearn: 1273.4889932\ttotal: 1.86s\tremaining: 928ms\n",
      "667:\tlearn: 1273.0831314\ttotal: 1.86s\tremaining: 925ms\n",
      "668:\tlearn: 1271.9275138\ttotal: 1.86s\tremaining: 922ms\n",
      "669:\tlearn: 1271.3347341\ttotal: 1.86s\tremaining: 919ms\n",
      "670:\tlearn: 1270.8092310\ttotal: 1.87s\tremaining: 916ms\n",
      "671:\tlearn: 1269.8944708\ttotal: 1.87s\tremaining: 913ms\n",
      "672:\tlearn: 1269.1750594\ttotal: 1.87s\tremaining: 910ms\n",
      "673:\tlearn: 1269.1459570\ttotal: 1.87s\tremaining: 907ms\n",
      "674:\tlearn: 1268.6098940\ttotal: 1.88s\tremaining: 904ms\n",
      "675:\tlearn: 1267.0135699\ttotal: 1.88s\tremaining: 900ms\n",
      "676:\tlearn: 1266.2238910\ttotal: 1.88s\tremaining: 898ms\n",
      "677:\tlearn: 1265.6521298\ttotal: 1.88s\tremaining: 895ms\n",
      "678:\tlearn: 1264.7870232\ttotal: 1.89s\tremaining: 892ms\n",
      "679:\tlearn: 1264.1483891\ttotal: 1.89s\tremaining: 889ms\n",
      "680:\tlearn: 1263.3454175\ttotal: 1.89s\tremaining: 886ms\n",
      "681:\tlearn: 1262.9736631\ttotal: 1.89s\tremaining: 883ms\n",
      "682:\tlearn: 1262.2491519\ttotal: 1.9s\tremaining: 880ms\n",
      "683:\tlearn: 1261.1937028\ttotal: 1.9s\tremaining: 877ms\n",
      "684:\tlearn: 1260.6152623\ttotal: 1.9s\tremaining: 874ms\n",
      "685:\tlearn: 1260.0447525\ttotal: 1.9s\tremaining: 871ms\n",
      "686:\tlearn: 1258.0475231\ttotal: 1.91s\tremaining: 868ms\n",
      "687:\tlearn: 1257.6681887\ttotal: 1.91s\tremaining: 865ms\n",
      "688:\tlearn: 1257.0366685\ttotal: 1.91s\tremaining: 862ms\n",
      "689:\tlearn: 1257.0079453\ttotal: 1.91s\tremaining: 859ms\n",
      "690:\tlearn: 1256.1456447\ttotal: 1.91s\tremaining: 856ms\n",
      "691:\tlearn: 1255.3650089\ttotal: 1.92s\tremaining: 853ms\n",
      "692:\tlearn: 1254.9251057\ttotal: 1.92s\tremaining: 850ms\n",
      "693:\tlearn: 1254.2184480\ttotal: 1.92s\tremaining: 847ms\n",
      "694:\tlearn: 1253.5276666\ttotal: 1.92s\tremaining: 844ms\n",
      "695:\tlearn: 1252.8142774\ttotal: 1.93s\tremaining: 841ms\n",
      "696:\tlearn: 1252.4606552\ttotal: 1.93s\tremaining: 838ms\n",
      "697:\tlearn: 1251.8454046\ttotal: 1.93s\tremaining: 835ms\n",
      "698:\tlearn: 1250.9137343\ttotal: 1.93s\tremaining: 832ms\n",
      "699:\tlearn: 1249.9854447\ttotal: 1.93s\tremaining: 829ms\n",
      "700:\tlearn: 1248.5756747\ttotal: 1.94s\tremaining: 826ms\n",
      "701:\tlearn: 1247.8342932\ttotal: 1.94s\tremaining: 823ms\n",
      "702:\tlearn: 1247.4785882\ttotal: 1.94s\tremaining: 820ms\n",
      "703:\tlearn: 1247.0092648\ttotal: 1.94s\tremaining: 818ms\n",
      "704:\tlearn: 1246.9813807\ttotal: 1.95s\tremaining: 814ms\n",
      "705:\tlearn: 1246.9542453\ttotal: 1.95s\tremaining: 811ms\n",
      "706:\tlearn: 1246.0519858\ttotal: 1.95s\tremaining: 808ms\n",
      "707:\tlearn: 1245.6451621\ttotal: 1.95s\tremaining: 805ms\n",
      "708:\tlearn: 1245.1839367\ttotal: 1.96s\tremaining: 802ms\n",
      "709:\tlearn: 1245.1564478\ttotal: 1.96s\tremaining: 800ms\n",
      "710:\tlearn: 1244.4873780\ttotal: 1.96s\tremaining: 797ms\n",
      "711:\tlearn: 1244.4616980\ttotal: 1.96s\tremaining: 795ms\n",
      "712:\tlearn: 1243.6093572\ttotal: 1.97s\tremaining: 792ms\n",
      "713:\tlearn: 1243.1892602\ttotal: 1.97s\tremaining: 789ms\n",
      "714:\tlearn: 1242.5626031\ttotal: 1.97s\tremaining: 786ms\n",
      "715:\tlearn: 1241.7324727\ttotal: 1.97s\tremaining: 783ms\n",
      "716:\tlearn: 1240.6646112\ttotal: 1.98s\tremaining: 780ms\n",
      "717:\tlearn: 1240.0404490\ttotal: 1.98s\tremaining: 777ms\n",
      "718:\tlearn: 1239.5057721\ttotal: 1.98s\tremaining: 774ms\n",
      "719:\tlearn: 1239.1861240\ttotal: 1.99s\tremaining: 772ms\n",
      "720:\tlearn: 1238.4842956\ttotal: 1.99s\tremaining: 769ms\n",
      "721:\tlearn: 1237.8853678\ttotal: 1.99s\tremaining: 767ms\n",
      "722:\tlearn: 1237.0460781\ttotal: 1.99s\tremaining: 764ms\n",
      "723:\tlearn: 1236.4643148\ttotal: 2s\tremaining: 761ms\n",
      "724:\tlearn: 1235.7253008\ttotal: 2s\tremaining: 758ms\n",
      "725:\tlearn: 1234.5037199\ttotal: 2s\tremaining: 756ms\n",
      "726:\tlearn: 1234.0713250\ttotal: 2s\tremaining: 753ms\n",
      "727:\tlearn: 1233.5350488\ttotal: 2.01s\tremaining: 750ms\n",
      "728:\tlearn: 1232.8160925\ttotal: 2.01s\tremaining: 748ms\n",
      "729:\tlearn: 1232.1378780\ttotal: 2.01s\tremaining: 745ms\n",
      "730:\tlearn: 1231.6667322\ttotal: 2.02s\tremaining: 743ms\n",
      "731:\tlearn: 1231.2504640\ttotal: 2.02s\tremaining: 740ms\n",
      "732:\tlearn: 1230.8688124\ttotal: 2.02s\tremaining: 737ms\n",
      "733:\tlearn: 1230.5464093\ttotal: 2.02s\tremaining: 734ms\n",
      "734:\tlearn: 1229.8156222\ttotal: 2.03s\tremaining: 731ms\n",
      "735:\tlearn: 1229.4501355\ttotal: 2.03s\tremaining: 729ms\n",
      "736:\tlearn: 1228.6725289\ttotal: 2.03s\tremaining: 726ms\n",
      "737:\tlearn: 1228.6661915\ttotal: 2.04s\tremaining: 723ms\n",
      "738:\tlearn: 1228.2003569\ttotal: 2.04s\tremaining: 720ms\n",
      "739:\tlearn: 1227.2896547\ttotal: 2.04s\tremaining: 717ms\n",
      "740:\tlearn: 1226.8157752\ttotal: 2.04s\tremaining: 714ms\n",
      "741:\tlearn: 1225.9439427\ttotal: 2.05s\tremaining: 712ms\n",
      "742:\tlearn: 1225.3445948\ttotal: 2.05s\tremaining: 709ms\n",
      "743:\tlearn: 1225.0634090\ttotal: 2.05s\tremaining: 707ms\n",
      "744:\tlearn: 1224.3231764\ttotal: 2.06s\tremaining: 704ms\n",
      "745:\tlearn: 1223.6874903\ttotal: 2.06s\tremaining: 701ms\n",
      "746:\tlearn: 1223.0787770\ttotal: 2.06s\tremaining: 698ms\n",
      "747:\tlearn: 1222.8829300\ttotal: 2.06s\tremaining: 695ms\n",
      "748:\tlearn: 1222.0767833\ttotal: 2.07s\tremaining: 693ms\n",
      "749:\tlearn: 1221.5067994\ttotal: 2.07s\tremaining: 690ms\n",
      "750:\tlearn: 1220.6245928\ttotal: 2.07s\tremaining: 687ms\n"
     ]
    },
    {
     "name": "stdout",
     "output_type": "stream",
     "text": [
      "751:\tlearn: 1220.0563785\ttotal: 2.08s\tremaining: 685ms\n",
      "752:\tlearn: 1219.2186501\ttotal: 2.08s\tremaining: 682ms\n",
      "753:\tlearn: 1218.8809557\ttotal: 2.08s\tremaining: 679ms\n",
      "754:\tlearn: 1218.4806948\ttotal: 2.08s\tremaining: 676ms\n",
      "755:\tlearn: 1218.1347331\ttotal: 2.09s\tremaining: 674ms\n",
      "756:\tlearn: 1217.2995544\ttotal: 2.09s\tremaining: 671ms\n",
      "757:\tlearn: 1216.7482570\ttotal: 2.09s\tremaining: 668ms\n",
      "758:\tlearn: 1216.2812085\ttotal: 2.1s\tremaining: 666ms\n",
      "759:\tlearn: 1216.0561346\ttotal: 2.1s\tremaining: 663ms\n",
      "760:\tlearn: 1215.7070706\ttotal: 2.1s\tremaining: 660ms\n",
      "761:\tlearn: 1214.7778826\ttotal: 2.1s\tremaining: 658ms\n",
      "762:\tlearn: 1214.1518595\ttotal: 2.11s\tremaining: 655ms\n",
      "763:\tlearn: 1213.8999895\ttotal: 2.11s\tremaining: 652ms\n",
      "764:\tlearn: 1213.4938051\ttotal: 2.11s\tremaining: 649ms\n",
      "765:\tlearn: 1213.0461508\ttotal: 2.12s\tremaining: 647ms\n",
      "766:\tlearn: 1211.9757987\ttotal: 2.12s\tremaining: 643ms\n",
      "767:\tlearn: 1211.3812964\ttotal: 2.12s\tremaining: 641ms\n",
      "768:\tlearn: 1210.7153494\ttotal: 2.12s\tremaining: 638ms\n",
      "769:\tlearn: 1210.2249421\ttotal: 2.13s\tremaining: 635ms\n",
      "770:\tlearn: 1209.9034406\ttotal: 2.13s\tremaining: 632ms\n",
      "771:\tlearn: 1209.3697056\ttotal: 2.13s\tremaining: 629ms\n",
      "772:\tlearn: 1208.6599436\ttotal: 2.13s\tremaining: 626ms\n",
      "773:\tlearn: 1207.7969982\ttotal: 2.13s\tremaining: 623ms\n",
      "774:\tlearn: 1207.2519400\ttotal: 2.14s\tremaining: 621ms\n",
      "775:\tlearn: 1206.4312839\ttotal: 2.14s\tremaining: 618ms\n",
      "776:\tlearn: 1206.4062242\ttotal: 2.14s\tremaining: 615ms\n",
      "777:\tlearn: 1205.9911924\ttotal: 2.14s\tremaining: 612ms\n",
      "778:\tlearn: 1205.3790899\ttotal: 2.15s\tremaining: 609ms\n",
      "779:\tlearn: 1205.3731641\ttotal: 2.15s\tremaining: 606ms\n",
      "780:\tlearn: 1205.3674384\ttotal: 2.15s\tremaining: 603ms\n",
      "781:\tlearn: 1205.3616690\ttotal: 2.15s\tremaining: 600ms\n",
      "782:\tlearn: 1205.3568858\ttotal: 2.15s\tremaining: 597ms\n",
      "783:\tlearn: 1204.8448392\ttotal: 2.16s\tremaining: 594ms\n",
      "784:\tlearn: 1204.5470569\ttotal: 2.16s\tremaining: 592ms\n",
      "785:\tlearn: 1204.5424240\ttotal: 2.16s\tremaining: 589ms\n",
      "786:\tlearn: 1204.1076870\ttotal: 2.16s\tremaining: 586ms\n",
      "787:\tlearn: 1203.6111395\ttotal: 2.17s\tremaining: 583ms\n",
      "788:\tlearn: 1202.9594692\ttotal: 2.17s\tremaining: 580ms\n",
      "789:\tlearn: 1202.0402878\ttotal: 2.17s\tremaining: 577ms\n",
      "790:\tlearn: 1202.0164155\ttotal: 2.17s\tremaining: 574ms\n",
      "791:\tlearn: 1202.0111271\ttotal: 2.18s\tremaining: 572ms\n",
      "792:\tlearn: 1201.5900398\ttotal: 2.18s\tremaining: 569ms\n",
      "793:\tlearn: 1201.1952786\ttotal: 2.18s\tremaining: 566ms\n",
      "794:\tlearn: 1200.4589633\ttotal: 2.18s\tremaining: 563ms\n",
      "795:\tlearn: 1200.4539092\ttotal: 2.19s\tremaining: 560ms\n",
      "796:\tlearn: 1199.7458531\ttotal: 2.19s\tremaining: 558ms\n",
      "797:\tlearn: 1199.5774586\ttotal: 2.19s\tremaining: 555ms\n",
      "798:\tlearn: 1199.2248258\ttotal: 2.19s\tremaining: 552ms\n",
      "799:\tlearn: 1198.8578057\ttotal: 2.2s\tremaining: 549ms\n",
      "800:\tlearn: 1198.0767989\ttotal: 2.2s\tremaining: 547ms\n",
      "801:\tlearn: 1197.4496339\ttotal: 2.2s\tremaining: 544ms\n",
      "802:\tlearn: 1196.6362777\ttotal: 2.21s\tremaining: 541ms\n",
      "803:\tlearn: 1196.1879207\ttotal: 2.21s\tremaining: 539ms\n",
      "804:\tlearn: 1195.6829687\ttotal: 2.21s\tremaining: 536ms\n",
      "805:\tlearn: 1195.2406436\ttotal: 2.21s\tremaining: 533ms\n",
      "806:\tlearn: 1194.8413640\ttotal: 2.22s\tremaining: 530ms\n",
      "807:\tlearn: 1194.4127697\ttotal: 2.22s\tremaining: 528ms\n",
      "808:\tlearn: 1193.8777130\ttotal: 2.22s\tremaining: 525ms\n",
      "809:\tlearn: 1193.0391790\ttotal: 2.23s\tremaining: 523ms\n",
      "810:\tlearn: 1192.5222014\ttotal: 2.23s\tremaining: 520ms\n",
      "811:\tlearn: 1191.5504432\ttotal: 2.23s\tremaining: 517ms\n",
      "812:\tlearn: 1191.1885966\ttotal: 2.24s\tremaining: 514ms\n",
      "813:\tlearn: 1190.9888845\ttotal: 2.24s\tremaining: 512ms\n",
      "814:\tlearn: 1190.4781197\ttotal: 2.24s\tremaining: 509ms\n",
      "815:\tlearn: 1189.5708114\ttotal: 2.24s\tremaining: 506ms\n",
      "816:\tlearn: 1189.4840740\ttotal: 2.25s\tremaining: 503ms\n",
      "817:\tlearn: 1188.5471433\ttotal: 2.25s\tremaining: 501ms\n",
      "818:\tlearn: 1188.4645119\ttotal: 2.25s\tremaining: 498ms\n",
      "819:\tlearn: 1188.2556224\ttotal: 2.25s\tremaining: 495ms\n",
      "820:\tlearn: 1187.8536762\ttotal: 2.26s\tremaining: 492ms\n",
      "821:\tlearn: 1187.3514266\ttotal: 2.26s\tremaining: 490ms\n",
      "822:\tlearn: 1187.3273187\ttotal: 2.26s\tremaining: 487ms\n",
      "823:\tlearn: 1186.8037809\ttotal: 2.27s\tremaining: 484ms\n",
      "824:\tlearn: 1186.3016385\ttotal: 2.27s\tremaining: 481ms\n",
      "825:\tlearn: 1185.7734726\ttotal: 2.27s\tremaining: 479ms\n",
      "826:\tlearn: 1185.6495823\ttotal: 2.27s\tremaining: 476ms\n",
      "827:\tlearn: 1184.9601088\ttotal: 2.28s\tremaining: 473ms\n",
      "828:\tlearn: 1184.9551238\ttotal: 2.28s\tremaining: 470ms\n",
      "829:\tlearn: 1183.9523129\ttotal: 2.28s\tremaining: 468ms\n",
      "830:\tlearn: 1183.4130674\ttotal: 2.29s\tremaining: 465ms\n",
      "831:\tlearn: 1182.7253580\ttotal: 2.29s\tremaining: 462ms\n",
      "832:\tlearn: 1182.2737211\ttotal: 2.29s\tremaining: 459ms\n",
      "833:\tlearn: 1181.7144340\ttotal: 2.29s\tremaining: 456ms\n",
      "834:\tlearn: 1181.2334881\ttotal: 2.3s\tremaining: 454ms\n",
      "835:\tlearn: 1180.4217736\ttotal: 2.3s\tremaining: 451ms\n",
      "836:\tlearn: 1180.0726086\ttotal: 2.3s\tremaining: 448ms\n",
      "837:\tlearn: 1179.6492611\ttotal: 2.3s\tremaining: 445ms\n",
      "838:\tlearn: 1178.9762893\ttotal: 2.31s\tremaining: 443ms\n",
      "839:\tlearn: 1177.9661389\ttotal: 2.31s\tremaining: 440ms\n",
      "840:\tlearn: 1177.3350567\ttotal: 2.31s\tremaining: 437ms\n",
      "841:\tlearn: 1177.0289718\ttotal: 2.31s\tremaining: 434ms\n",
      "842:\tlearn: 1176.4823217\ttotal: 2.31s\tremaining: 431ms\n",
      "843:\tlearn: 1176.2522608\ttotal: 2.32s\tremaining: 428ms\n",
      "844:\tlearn: 1176.1129809\ttotal: 2.32s\tremaining: 426ms\n",
      "845:\tlearn: 1175.5747570\ttotal: 2.32s\tremaining: 423ms\n",
      "846:\tlearn: 1175.1733811\ttotal: 2.32s\tremaining: 420ms\n",
      "847:\tlearn: 1174.5904667\ttotal: 2.33s\tremaining: 417ms\n",
      "848:\tlearn: 1173.9733232\ttotal: 2.33s\tremaining: 414ms\n",
      "849:\tlearn: 1173.5363699\ttotal: 2.33s\tremaining: 412ms\n",
      "850:\tlearn: 1173.4038646\ttotal: 2.33s\tremaining: 409ms\n",
      "851:\tlearn: 1172.7744979\ttotal: 2.34s\tremaining: 406ms\n",
      "852:\tlearn: 1172.2400200\ttotal: 2.34s\tremaining: 403ms\n",
      "853:\tlearn: 1171.4490324\ttotal: 2.34s\tremaining: 401ms\n",
      "854:\tlearn: 1170.9900589\ttotal: 2.35s\tremaining: 398ms\n",
      "855:\tlearn: 1170.5272071\ttotal: 2.35s\tremaining: 395ms\n",
      "856:\tlearn: 1170.2728774\ttotal: 2.35s\tremaining: 392ms\n",
      "857:\tlearn: 1170.2496381\ttotal: 2.35s\tremaining: 389ms\n",
      "858:\tlearn: 1170.2278823\ttotal: 2.35s\tremaining: 387ms\n",
      "859:\tlearn: 1170.2050362\ttotal: 2.36s\tremaining: 384ms\n",
      "860:\tlearn: 1169.7127316\ttotal: 2.36s\tremaining: 381ms\n",
      "861:\tlearn: 1169.5305841\ttotal: 2.36s\tremaining: 378ms\n",
      "862:\tlearn: 1168.8121951\ttotal: 2.37s\tremaining: 376ms\n",
      "863:\tlearn: 1168.7907210\ttotal: 2.37s\tremaining: 373ms\n",
      "864:\tlearn: 1168.6237238\ttotal: 2.37s\tremaining: 370ms\n",
      "865:\tlearn: 1168.6186492\ttotal: 2.37s\tremaining: 367ms\n",
      "866:\tlearn: 1168.3010798\ttotal: 2.38s\tremaining: 364ms\n",
      "867:\tlearn: 1168.2809681\ttotal: 2.38s\tremaining: 362ms\n",
      "868:\tlearn: 1168.2761387\ttotal: 2.38s\tremaining: 359ms\n",
      "869:\tlearn: 1167.8756761\ttotal: 2.38s\tremaining: 356ms\n",
      "870:\tlearn: 1167.4347971\ttotal: 2.38s\tremaining: 353ms\n",
      "871:\tlearn: 1167.3409507\ttotal: 2.39s\tremaining: 351ms\n",
      "872:\tlearn: 1167.3362957\ttotal: 2.39s\tremaining: 348ms\n",
      "873:\tlearn: 1166.9330666\ttotal: 2.39s\tremaining: 345ms\n",
      "874:\tlearn: 1166.7330439\ttotal: 2.4s\tremaining: 342ms\n",
      "875:\tlearn: 1166.0587930\ttotal: 2.4s\tremaining: 340ms\n",
      "876:\tlearn: 1165.8980628\ttotal: 2.4s\tremaining: 337ms\n",
      "877:\tlearn: 1165.0668183\ttotal: 2.41s\tremaining: 334ms\n",
      "878:\tlearn: 1164.5354617\ttotal: 2.41s\tremaining: 332ms\n",
      "879:\tlearn: 1164.4631120\ttotal: 2.41s\tremaining: 329ms\n",
      "880:\tlearn: 1164.4586967\ttotal: 2.42s\tremaining: 326ms\n",
      "881:\tlearn: 1164.1089715\ttotal: 2.42s\tremaining: 323ms\n",
      "882:\tlearn: 1163.6104494\ttotal: 2.42s\tremaining: 321ms\n",
      "883:\tlearn: 1163.0794296\ttotal: 2.42s\tremaining: 318ms\n",
      "884:\tlearn: 1163.0751716\ttotal: 2.42s\tremaining: 315ms\n",
      "885:\tlearn: 1162.9456815\ttotal: 2.43s\tremaining: 312ms\n",
      "886:\tlearn: 1162.5564769\ttotal: 2.43s\tremaining: 310ms\n",
      "887:\tlearn: 1162.5524237\ttotal: 2.43s\tremaining: 307ms\n",
      "888:\tlearn: 1162.1690694\ttotal: 2.44s\tremaining: 304ms\n",
      "889:\tlearn: 1161.7714379\ttotal: 2.44s\tremaining: 301ms\n",
      "890:\tlearn: 1161.6612022\ttotal: 2.44s\tremaining: 298ms\n",
      "891:\tlearn: 1160.8718536\ttotal: 2.44s\tremaining: 296ms\n",
      "892:\tlearn: 1160.4644295\ttotal: 2.44s\tremaining: 293ms\n",
      "893:\tlearn: 1160.2156427\ttotal: 2.45s\tremaining: 290ms\n",
      "894:\tlearn: 1159.6323518\ttotal: 2.45s\tremaining: 288ms\n",
      "895:\tlearn: 1159.1720506\ttotal: 2.45s\tremaining: 285ms\n",
      "896:\tlearn: 1158.7466172\ttotal: 2.46s\tremaining: 282ms\n",
      "897:\tlearn: 1158.1909869\ttotal: 2.46s\tremaining: 279ms\n",
      "898:\tlearn: 1157.6350788\ttotal: 2.46s\tremaining: 277ms\n",
      "899:\tlearn: 1157.6310832\ttotal: 2.46s\tremaining: 274ms\n",
      "900:\tlearn: 1156.9693071\ttotal: 2.46s\tremaining: 271ms\n"
     ]
    },
    {
     "name": "stdout",
     "output_type": "stream",
     "text": [
      "901:\tlearn: 1155.8256388\ttotal: 2.47s\tremaining: 268ms\n",
      "902:\tlearn: 1155.3310935\ttotal: 2.47s\tremaining: 265ms\n",
      "903:\tlearn: 1154.8181343\ttotal: 2.48s\tremaining: 263ms\n",
      "904:\tlearn: 1154.3828067\ttotal: 2.48s\tremaining: 260ms\n",
      "905:\tlearn: 1154.0621120\ttotal: 2.48s\tremaining: 258ms\n",
      "906:\tlearn: 1154.0587528\ttotal: 2.48s\tremaining: 255ms\n",
      "907:\tlearn: 1153.6818793\ttotal: 2.49s\tremaining: 252ms\n",
      "908:\tlearn: 1153.1625447\ttotal: 2.49s\tremaining: 249ms\n",
      "909:\tlearn: 1153.0597293\ttotal: 2.49s\tremaining: 246ms\n",
      "910:\tlearn: 1153.0564581\ttotal: 2.49s\tremaining: 244ms\n",
      "911:\tlearn: 1152.7237765\ttotal: 2.5s\tremaining: 241ms\n",
      "912:\tlearn: 1152.7205801\ttotal: 2.5s\tremaining: 238ms\n",
      "913:\tlearn: 1152.2114808\ttotal: 2.5s\tremaining: 236ms\n",
      "914:\tlearn: 1151.3937788\ttotal: 2.51s\tremaining: 233ms\n",
      "915:\tlearn: 1150.8010272\ttotal: 2.51s\tremaining: 230ms\n",
      "916:\tlearn: 1150.1223542\ttotal: 2.51s\tremaining: 227ms\n",
      "917:\tlearn: 1149.6888188\ttotal: 2.51s\tremaining: 225ms\n",
      "918:\tlearn: 1149.6855615\ttotal: 2.52s\tremaining: 222ms\n",
      "919:\tlearn: 1149.5828986\ttotal: 2.52s\tremaining: 219ms\n",
      "920:\tlearn: 1148.6222392\ttotal: 2.52s\tremaining: 216ms\n",
      "921:\tlearn: 1148.2188924\ttotal: 2.52s\tremaining: 214ms\n",
      "922:\tlearn: 1148.1206110\ttotal: 2.53s\tremaining: 211ms\n",
      "923:\tlearn: 1148.0137657\ttotal: 2.53s\tremaining: 208ms\n",
      "924:\tlearn: 1147.3936126\ttotal: 2.53s\tremaining: 205ms\n",
      "925:\tlearn: 1146.9620920\ttotal: 2.54s\tremaining: 203ms\n",
      "926:\tlearn: 1146.2959849\ttotal: 2.54s\tremaining: 200ms\n",
      "927:\tlearn: 1145.2396752\ttotal: 2.54s\tremaining: 197ms\n",
      "928:\tlearn: 1144.9550854\ttotal: 2.54s\tremaining: 194ms\n",
      "929:\tlearn: 1144.1969637\ttotal: 2.54s\tremaining: 192ms\n",
      "930:\tlearn: 1143.8704200\ttotal: 2.55s\tremaining: 189ms\n",
      "931:\tlearn: 1143.4694344\ttotal: 2.55s\tremaining: 186ms\n",
      "932:\tlearn: 1143.3776871\ttotal: 2.55s\tremaining: 183ms\n",
      "933:\tlearn: 1142.9138106\ttotal: 2.56s\tremaining: 181ms\n",
      "934:\tlearn: 1142.7011112\ttotal: 2.56s\tremaining: 178ms\n",
      "935:\tlearn: 1142.3014048\ttotal: 2.56s\tremaining: 175ms\n",
      "936:\tlearn: 1141.4940248\ttotal: 2.56s\tremaining: 172ms\n",
      "937:\tlearn: 1140.8798239\ttotal: 2.57s\tremaining: 170ms\n",
      "938:\tlearn: 1140.2365188\ttotal: 2.57s\tremaining: 167ms\n",
      "939:\tlearn: 1139.7100808\ttotal: 2.57s\tremaining: 164ms\n",
      "940:\tlearn: 1139.6232030\ttotal: 2.58s\tremaining: 161ms\n",
      "941:\tlearn: 1139.2018291\ttotal: 2.58s\tremaining: 159ms\n",
      "942:\tlearn: 1138.4780730\ttotal: 2.58s\tremaining: 156ms\n",
      "943:\tlearn: 1138.0381275\ttotal: 2.58s\tremaining: 153ms\n",
      "944:\tlearn: 1137.7845100\ttotal: 2.58s\tremaining: 150ms\n",
      "945:\tlearn: 1136.8653015\ttotal: 2.59s\tremaining: 148ms\n",
      "946:\tlearn: 1136.4335832\ttotal: 2.59s\tremaining: 145ms\n",
      "947:\tlearn: 1135.9253574\ttotal: 2.59s\tremaining: 142ms\n",
      "948:\tlearn: 1135.7208991\ttotal: 2.59s\tremaining: 139ms\n",
      "949:\tlearn: 1135.4931804\ttotal: 2.6s\tremaining: 137ms\n",
      "950:\tlearn: 1134.8189558\ttotal: 2.6s\tremaining: 134ms\n",
      "951:\tlearn: 1134.4739369\ttotal: 2.6s\tremaining: 131ms\n",
      "952:\tlearn: 1134.1521486\ttotal: 2.6s\tremaining: 128ms\n",
      "953:\tlearn: 1133.9034102\ttotal: 2.6s\tremaining: 126ms\n",
      "954:\tlearn: 1133.7485048\ttotal: 2.61s\tremaining: 123ms\n",
      "955:\tlearn: 1133.5137018\ttotal: 2.61s\tremaining: 120ms\n",
      "956:\tlearn: 1133.1236114\ttotal: 2.61s\tremaining: 117ms\n",
      "957:\tlearn: 1131.7209006\ttotal: 2.61s\tremaining: 115ms\n",
      "958:\tlearn: 1131.1733124\ttotal: 2.62s\tremaining: 112ms\n",
      "959:\tlearn: 1130.4977631\ttotal: 2.62s\tremaining: 109ms\n",
      "960:\tlearn: 1130.0855145\ttotal: 2.62s\tremaining: 106ms\n",
      "961:\tlearn: 1129.7754487\ttotal: 2.62s\tremaining: 104ms\n",
      "962:\tlearn: 1129.5343155\ttotal: 2.63s\tremaining: 101ms\n",
      "963:\tlearn: 1129.0671439\ttotal: 2.63s\tremaining: 98.1ms\n",
      "964:\tlearn: 1128.3902964\ttotal: 2.63s\tremaining: 95.4ms\n",
      "965:\tlearn: 1128.0084202\ttotal: 2.63s\tremaining: 92.6ms\n",
      "966:\tlearn: 1127.7162281\ttotal: 2.63s\tremaining: 89.9ms\n",
      "967:\tlearn: 1127.1543193\ttotal: 2.64s\tremaining: 87.2ms\n",
      "968:\tlearn: 1126.4710380\ttotal: 2.64s\tremaining: 84.4ms\n",
      "969:\tlearn: 1126.1784794\ttotal: 2.64s\tremaining: 81.7ms\n",
      "970:\tlearn: 1125.6640884\ttotal: 2.64s\tremaining: 79ms\n",
      "971:\tlearn: 1125.3720425\ttotal: 2.65s\tremaining: 76.2ms\n",
      "972:\tlearn: 1125.0399454\ttotal: 2.65s\tremaining: 73.5ms\n",
      "973:\tlearn: 1124.7304779\ttotal: 2.65s\tremaining: 70.8ms\n",
      "974:\tlearn: 1124.3922712\ttotal: 2.65s\tremaining: 68ms\n",
      "975:\tlearn: 1123.9349520\ttotal: 2.66s\tremaining: 65.3ms\n",
      "976:\tlearn: 1123.2258937\ttotal: 2.66s\tremaining: 62.6ms\n",
      "977:\tlearn: 1122.6076856\ttotal: 2.66s\tremaining: 59.9ms\n",
      "978:\tlearn: 1121.7622494\ttotal: 2.66s\tremaining: 57.1ms\n",
      "979:\tlearn: 1121.3292387\ttotal: 2.67s\tremaining: 54.4ms\n",
      "980:\tlearn: 1120.8982608\ttotal: 2.67s\tremaining: 51.7ms\n",
      "981:\tlearn: 1120.6475812\ttotal: 2.67s\tremaining: 49ms\n",
      "982:\tlearn: 1120.3884107\ttotal: 2.67s\tremaining: 46.2ms\n",
      "983:\tlearn: 1119.9902268\ttotal: 2.68s\tremaining: 43.5ms\n",
      "984:\tlearn: 1119.4107142\ttotal: 2.68s\tremaining: 40.8ms\n",
      "985:\tlearn: 1118.7226687\ttotal: 2.68s\tremaining: 38.1ms\n",
      "986:\tlearn: 1117.7473256\ttotal: 2.69s\tremaining: 35.4ms\n",
      "987:\tlearn: 1117.4352770\ttotal: 2.69s\tremaining: 32.6ms\n",
      "988:\tlearn: 1116.6205755\ttotal: 2.69s\tremaining: 29.9ms\n",
      "989:\tlearn: 1115.9280137\ttotal: 2.69s\tremaining: 27.2ms\n",
      "990:\tlearn: 1115.6782524\ttotal: 2.7s\tremaining: 24.5ms\n",
      "991:\tlearn: 1114.8896987\ttotal: 2.7s\tremaining: 21.8ms\n",
      "992:\tlearn: 1114.5788826\ttotal: 2.7s\tremaining: 19.1ms\n",
      "993:\tlearn: 1114.2696527\ttotal: 2.71s\tremaining: 16.3ms\n",
      "994:\tlearn: 1114.0090367\ttotal: 2.71s\tremaining: 13.6ms\n",
      "995:\tlearn: 1113.3119305\ttotal: 2.71s\tremaining: 10.9ms\n",
      "996:\tlearn: 1112.9631605\ttotal: 2.71s\tremaining: 8.17ms\n",
      "997:\tlearn: 1112.6507926\ttotal: 2.72s\tremaining: 5.44ms\n",
      "998:\tlearn: 1112.2372136\ttotal: 2.72s\tremaining: 2.72ms\n",
      "999:\tlearn: 1112.0183083\ttotal: 2.72s\tremaining: 0us\n",
      "0.9068562832420274\n"
     ]
    }
   ],
   "source": [
    "from catboost import CatBoostRegressor\n",
    "\n",
    "cbr=CatBoostRegressor()\n",
    "cbr.fit(X_train,y_train)\n",
    "y_pred_cbr=cbr.predict(X_test)\n",
    "print(r2_score(y_test,y_pred_cbr))\n",
    "r2_scores.append(('CatBoostRegressor',r2_score(y_test,y_pred_cbr)))"
   ]
  },
  {
   "cell_type": "code",
   "execution_count": 101,
   "metadata": {},
   "outputs": [
    {
     "data": {
      "image/png": "[encoded data removed]",
      "text/plain": [
       "<Figure size 432x288 with 1 Axes>"
      ]
     },
     "metadata": {
      "needs_background": "light"
     },
     "output_type": "display_data"
    }
   ],
   "source": [
    "plt.scatter(y_pred_cbr,y_test)\n",
    "plt.title('CatBoostRegressor')\n",
    "plt.plot([y_test.min(), y_test.max()], [y_test.min(), y_test.max()], color='black')\n",
    "plt.xlabel('test')\n",
    "plt.ylabel('predicted')\n",
    "plt.show()"
   ]
  },
  {
   "cell_type": "markdown",
   "metadata": {},
   "source": [
    "### Feature Imporatance CatBoost Regression"
   ]
  },
  {
   "cell_type": "code",
   "execution_count": 102,
   "metadata": {},
   "outputs": [
    {
     "data": {
      "image/png": "[encoded data removed]",
      "text/plain": [
       "<Figure size 1296x720 with 1 Axes>"
      ]
     },
     "metadata": {
      "needs_background": "light"
     },
     "output_type": "display_data"
    }
   ],
   "source": [
    "pd.Series(cbr.feature_importances_,index=X.columns).sort_values(ascending=False).plot(kind='bar',figsize=(18,10));"
   ]
  },
  {
   "cell_type": "markdown",
   "metadata": {},
   "source": [
    "## XGBoost Regression"
   ]
  },
  {
   "cell_type": "code",
   "execution_count": 103,
   "metadata": {},
   "outputs": [],
   "source": [
    "#!pip install xgboost"
   ]
  },
  {
   "cell_type": "code",
   "execution_count": 104,
   "metadata": {},
   "outputs": [
    {
     "name": "stdout",
     "output_type": "stream",
     "text": [
      "0.9143923021114007\n"
     ]
    }
   ],
   "source": [
    "import xgboost as xgb\n",
    "xgb_model=xgb.XGBRegressor()\n",
    "xgb_model.fit(X_train,y_train)\n",
    "y_pred_xgb=xgb_model.predict(X_test)\n",
    "print(r2_score(y_test,y_pred_xgb))\n",
    "r2_scores.append(('XGBRegressor',r2_score(y_test,y_pred_xgb)))"
   ]
  },
  {
   "cell_type": "code",
   "execution_count": 105,
   "metadata": {},
   "outputs": [
    {
     "data": {
      "image/png": "[encoded data removed]",
      "text/plain": [
       "<Figure size 432x288 with 1 Axes>"
      ]
     },
     "metadata": {
      "needs_background": "light"
     },
     "output_type": "display_data"
    }
   ],
   "source": [
    "plt.scatter(y_pred_xgb,y_test)\n",
    "plt.title('XGBRegressor')\n",
    "plt.plot([y_test.min(), y_test.max()], [y_test.min(), y_test.max()], color='black')\n",
    "plt.xlabel('test')\n",
    "plt.ylabel('predicted')\n",
    "plt.show()"
   ]
  },
  {
   "cell_type": "markdown",
   "metadata": {},
   "source": [
    "### Feature Imporatance XGBoost Regression"
   ]
  },
  {
   "cell_type": "code",
   "execution_count": 106,
   "metadata": {},
   "outputs": [
    {
     "data": {
      "image/png": "[encoded data removed]",
      "text/plain": [
       "<Figure size 1296x720 with 1 Axes>"
      ]
     },
     "metadata": {
      "needs_background": "light"
     },
     "output_type": "display_data"
    }
   ],
   "source": [
    "pd.Series(xgb_model.feature_importances_,index=X.columns).sort_values(ascending=False).plot(kind='bar',figsize=(18,10));"
   ]
  },
  {
   "cell_type": "code",
   "execution_count": 107,
   "metadata": {},
   "outputs": [
    {
     "data": {
      "text/plain": [
       "[('LinearRegression', 0.6838299618248773),\n",
       " ('RandomForestRegressor', 0.8718478111277497),\n",
       " ('ExtraTreesRegressor', 0.9133293485801457),\n",
       " ('CatBoostRegressor', 0.9068562832420274),\n",
       " ('XGBRegressor', 0.9143923021114007)]"
      ]
     },
     "execution_count": 107,
     "metadata": {},
     "output_type": "execute_result"
    }
   ],
   "source": [
    "r2_scores"
   ]
  },
  {
   "cell_type": "code",
   "execution_count": 108,
   "metadata": {},
   "outputs": [
    {
     "data": {
      "image/png": "[encoded data removed]",
      "text/plain": [
       "<Figure size 720x576 with 1 Axes>"
      ]
     },
     "metadata": {
      "needs_background": "light"
     },
     "output_type": "display_data"
    }
   ],
   "source": [
    "#plotting barplot\n",
    "df1= pd.DataFrame(r2_scores,columns =['Models', 'Scores']) \n",
    "plt.figure(figsize=(10,8))\n",
    "sns.barplot(x=df1['Models'],y=df1['Scores'])\n",
    "plt.xticks(rotation=45)\n",
    "\n",
    "plt.title('Models and the respective scores' )\n",
    "plt.tight_layout()\n",
    "plt.show()\n"
   ]
  },
  {
   "cell_type": "code",
   "execution_count": 109,
   "metadata": {},
   "outputs": [],
   "source": [
    "df.to_csv('flight_pred_df')"
   ]
  },
  {
   "cell_type": "code",
   "execution_count": 110,
   "metadata": {},
   "outputs": [],
   "source": [
    "import pickle \n",
    "# Saving model to disk\n",
    "pickle.dump(xgb_model, open('model.pkl','wb'))\n",
    "model=pickle.load(open('model.pkl','rb'))"
   ]
  },
  {
   "cell_type": "code",
   "execution_count": null,
   "metadata": {},
   "outputs": [],
   "source": []
  }
 ],
 "metadata": {
  "kernelspec": {
   "display_name": "Python 3",
   "language": "python",
   "name": "python3"
  },
  "language_info": {
   "codemirror_mode": {
    "name": "ipython",
    "version": 3
   },
   "file_extension": ".py",
   "mimetype": "text/x-python",
   "name": "python",
   "nbconvert_exporter": "python",
   "pygments_lexer": "ipython3",
   "version": "3.7.3"
  }
 },
 "nbformat": 4,
 "nbformat_minor": 2
}
